{
 "cells": [
  {
   "cell_type": "markdown",
   "id": "bde500b4",
   "metadata": {},
   "source": [
    "# COMPSCI 753 Assignment 1\n",
    "Chase Robertson       \n",
    "686249907  \n",
    "crob873"
   ]
  },
  {
   "cell_type": "markdown",
   "id": "de929d08",
   "metadata": {},
   "source": [
    "# Datasets\n",
    "The data is sourced from BBC News, and is categorised as tech or entertainment news. Datasets imported here have already been converted to vocabulary bitvectors, and are formatted as tab-delimited."
   ]
  },
  {
   "cell_type": "markdown",
   "id": "58698e5e",
   "metadata": {},
   "source": [
    "# Part 1: LSH Hash Tables"
   ]
  },
  {
   "cell_type": "code",
   "execution_count": 1,
   "id": "3c6ef4a9",
   "metadata": {},
   "outputs": [
    {
     "name": "stderr",
     "output_type": "stream",
     "text": [
      "<frozen importlib._bootstrap>:228: RuntimeWarning: scipy._lib.messagestream.MessageStream size changed, may indicate binary incompatibility. Expected 56 from C header, got 64 from PyObject\n"
     ]
    }
   ],
   "source": [
    "import random, time\n",
    "import pandas as pd\n",
    "import numpy as np\n",
    "from sympy import sieve\n",
    "from seaborn import heatmap, lineplot\n",
    "from matplotlib import rcParams"
   ]
  },
  {
   "cell_type": "markdown",
   "id": "d4574090",
   "metadata": {},
   "source": [
    "### a) Load and report dataframe shapes"
   ]
  },
  {
   "cell_type": "code",
   "execution_count": 2,
   "id": "5d19bbf6",
   "metadata": {},
   "outputs": [],
   "source": [
    "bitvec_all = pd.read_csv(\"bbc/bitvector_all.csv\", index_col=0,\n",
    "                         delimiter=\"\\t\", header=None)\n",
    "bitvec_query = pd.read_csv(\"bbc/bitvector_query.csv\", index_col=0,\n",
    "                           delimiter=\"\\t\", header=None)\n",
    "\n",
    "# separate ID and label columns\n",
    "all_x = bitvec_all.loc[:, :14927]\n",
    "all_y = bitvec_all.loc[:, 14928]\n",
    "query_x = bitvec_query.loc[:, :14927]\n",
    "query_y = bitvec_query.loc[:, 14928]"
   ]
  },
  {
   "cell_type": "code",
   "execution_count": 3,
   "id": "6c63a08d",
   "metadata": {},
   "outputs": [
    {
     "name": "stdout",
     "output_type": "stream",
     "text": [
      "(534, 14927) (534,)\n",
      "(4, 14927) (4,)\n"
     ]
    }
   ],
   "source": [
    "print(all_x.shape, all_y.shape)\n",
    "print(query_x.shape, query_y.shape)"
   ]
  },
  {
   "cell_type": "markdown",
   "id": "10e1266c",
   "metadata": {},
   "source": [
    "There are 534 articles, each with 14,927 binary features and one string label.\n",
    "\n",
    "### b) Construct family of MinHash functions"
   ]
  },
  {
   "cell_type": "code",
   "execution_count": 4,
   "id": "83d6b55c",
   "metadata": {},
   "outputs": [
    {
     "name": "stdout",
     "output_type": "stream",
     "text": [
      "h1(x)\t= ( ( x * 11731\t+ 2436\t) % 15107 ) % 14927\n",
      "h2(x)\t= ( ( x * 5777\t+ 7897\t) % 15107 ) % 14927\n",
      "h3(x)\t= ( ( x * 4381\t+ 4384\t) % 15107 ) % 14927\n",
      "h4(x)\t= ( ( x * 2630\t+ 4497\t) % 15107 ) % 14927\n",
      "h5(x)\t= ( ( x * 1474\t+ 7753\t) % 15107 ) % 14927\n",
      "h6(x)\t= ( ( x * 7210\t+ 4640\t) % 15107 ) % 14927\n",
      "h7(x)\t= ( ( x * 6307\t+ 2255\t) % 15107 ) % 14927\n",
      "h8(x)\t= ( ( x * 7424\t+ 11978\t) % 15107 ) % 14927\n",
      "h9(x)\t= ( ( x * 6219\t+ 5134\t) % 15107 ) % 14927\n",
      "h10(x)\t= ( ( x * 9020\t+ 14176\t) % 15107 ) % 14927\n",
      "h11(x)\t= ( ( x * 6069\t+ 2896\t) % 15107 ) % 14927\n",
      "h12(x)\t= ( ( x * 12580\t+ 161\t) % 15107 ) % 14927\n",
      "h13(x)\t= ( ( x * 4764\t+ 1065\t) % 15107 ) % 14927\n",
      "h14(x)\t= ( ( x * 6432\t+ 4955\t) % 15107 ) % 14927\n",
      "h15(x)\t= ( ( x * 8279\t+ 1335\t) % 15107 ) % 14927\n",
      "h16(x)\t= ( ( x * 12138\t+ 1646\t) % 15107 ) % 14927\n",
      "h17(x)\t= ( ( x * 2221\t+ 3284\t) % 15107 ) % 14927\n",
      "h18(x)\t= ( ( x * 9431\t+ 6710\t) % 15107 ) % 14927\n",
      "h19(x)\t= ( ( x * 14905\t+ 9549\t) % 15107 ) % 14927\n",
      "h20(x)\t= ( ( x * 12515\t+ 4347\t) % 15107 ) % 14927\n"
     ]
    }
   ],
   "source": [
    "def generate_hash_functions(p, l, k):\n",
    "    a, b = [1], [1]\n",
    "    # ensure distinct values of a and b\n",
    "    while set(a).intersection(b):\n",
    "        a = random.sample(range(1, p), l*k)\n",
    "        b = random.sample(range(0, p), l*k)\n",
    "    return a, b\n",
    "\n",
    "\n",
    "ndoc, n = all_x.shape\n",
    "\n",
    "# choose prime number p > n\n",
    "p = random.choice(list(sieve.primerange(n, n*2)))\n",
    "a, b = generate_hash_functions(p, l=10, k=2)\n",
    "        \n",
    "for i, a_, b_ in zip(range(1,len(a)+1), a, b):\n",
    "    print(f\"h{i}(x)\\t= ( ( x * {a_}\\t+ {b_}\\t) % {p} ) % {n}\")"
   ]
  },
  {
   "cell_type": "markdown",
   "id": "8eb3f251",
   "metadata": {},
   "source": [
    "### c) Construct LSH hash tables"
   ]
  },
  {
   "cell_type": "code",
   "execution_count": 5,
   "id": "4c251c35",
   "metadata": {},
   "outputs": [
    {
     "data": {
      "text/html": [
       "<div>\n",
       "<style scoped>\n",
       "    .dataframe tbody tr th:only-of-type {\n",
       "        vertical-align: middle;\n",
       "    }\n",
       "\n",
       "    .dataframe tbody tr th {\n",
       "        vertical-align: top;\n",
       "    }\n",
       "\n",
       "    .dataframe thead th {\n",
       "        text-align: right;\n",
       "    }\n",
       "</style>\n",
       "<table border=\"1\" class=\"dataframe\">\n",
       "  <thead>\n",
       "    <tr style=\"text-align: right;\">\n",
       "      <th></th>\n",
       "      <th>0</th>\n",
       "      <th>1</th>\n",
       "      <th>2</th>\n",
       "      <th>3</th>\n",
       "      <th>4</th>\n",
       "      <th>5</th>\n",
       "      <th>6</th>\n",
       "      <th>7</th>\n",
       "      <th>8</th>\n",
       "      <th>9</th>\n",
       "      <th>10</th>\n",
       "      <th>11</th>\n",
       "      <th>12</th>\n",
       "      <th>13</th>\n",
       "      <th>14</th>\n",
       "      <th>15</th>\n",
       "      <th>16</th>\n",
       "      <th>17</th>\n",
       "      <th>18</th>\n",
       "      <th>19</th>\n",
       "    </tr>\n",
       "    <tr>\n",
       "      <th>0</th>\n",
       "      <th></th>\n",
       "      <th></th>\n",
       "      <th></th>\n",
       "      <th></th>\n",
       "      <th></th>\n",
       "      <th></th>\n",
       "      <th></th>\n",
       "      <th></th>\n",
       "      <th></th>\n",
       "      <th></th>\n",
       "      <th></th>\n",
       "      <th></th>\n",
       "      <th></th>\n",
       "      <th></th>\n",
       "      <th></th>\n",
       "      <th></th>\n",
       "      <th></th>\n",
       "      <th></th>\n",
       "      <th></th>\n",
       "      <th></th>\n",
       "    </tr>\n",
       "  </thead>\n",
       "  <tbody>\n",
       "    <tr>\n",
       "      <th>1</th>\n",
       "      <td>1</td>\n",
       "      <td>7</td>\n",
       "      <td>120</td>\n",
       "      <td>36</td>\n",
       "      <td>38</td>\n",
       "      <td>29</td>\n",
       "      <td>28</td>\n",
       "      <td>10</td>\n",
       "      <td>10</td>\n",
       "      <td>17</td>\n",
       "      <td>8</td>\n",
       "      <td>53</td>\n",
       "      <td>14</td>\n",
       "      <td>25</td>\n",
       "      <td>18</td>\n",
       "      <td>18</td>\n",
       "      <td>83</td>\n",
       "      <td>25</td>\n",
       "      <td>11</td>\n",
       "      <td>0</td>\n",
       "    </tr>\n",
       "    <tr>\n",
       "      <th>2</th>\n",
       "      <td>98</td>\n",
       "      <td>7</td>\n",
       "      <td>151</td>\n",
       "      <td>17</td>\n",
       "      <td>18</td>\n",
       "      <td>46</td>\n",
       "      <td>55</td>\n",
       "      <td>8</td>\n",
       "      <td>127</td>\n",
       "      <td>36</td>\n",
       "      <td>106</td>\n",
       "      <td>119</td>\n",
       "      <td>84</td>\n",
       "      <td>445</td>\n",
       "      <td>39</td>\n",
       "      <td>10</td>\n",
       "      <td>112</td>\n",
       "      <td>525</td>\n",
       "      <td>137</td>\n",
       "      <td>75</td>\n",
       "    </tr>\n",
       "    <tr>\n",
       "      <th>3</th>\n",
       "      <td>15</td>\n",
       "      <td>1</td>\n",
       "      <td>143</td>\n",
       "      <td>36</td>\n",
       "      <td>2</td>\n",
       "      <td>91</td>\n",
       "      <td>12</td>\n",
       "      <td>64</td>\n",
       "      <td>27</td>\n",
       "      <td>137</td>\n",
       "      <td>80</td>\n",
       "      <td>100</td>\n",
       "      <td>86</td>\n",
       "      <td>33</td>\n",
       "      <td>143</td>\n",
       "      <td>18</td>\n",
       "      <td>75</td>\n",
       "      <td>14</td>\n",
       "      <td>179</td>\n",
       "      <td>39</td>\n",
       "    </tr>\n",
       "  </tbody>\n",
       "</table>\n",
       "</div>"
      ],
      "text/plain": [
       "   0  1    2   3   4   5   6   7    8    9    10   11  12   13   14  15   16  \\\n",
       "0                                                                              \n",
       "1   1  7  120  36  38  29  28  10   10   17    8   53  14   25   18  18   83   \n",
       "2  98  7  151  17  18  46  55   8  127   36  106  119  84  445   39  10  112   \n",
       "3  15  1  143  36   2  91  12  64   27  137   80  100  86   33  143  18   75   \n",
       "\n",
       "    17   18  19  \n",
       "0                \n",
       "1   25   11   0  \n",
       "2  525  137  75  \n",
       "3   14  179  39  "
      ]
     },
     "execution_count": 5,
     "metadata": {},
     "output_type": "execute_result"
    }
   ],
   "source": [
    "# vectorised application of ax + b % p % n\n",
    "def apply_hash(x, a, b, p, n):\n",
    "    return ((np.outer(a, x) + np.array(b)[:, np.newaxis]) % p) % n\n",
    "    \n",
    "    \n",
    "def get_signatures(documents, a, b, p, n):\n",
    "    ndoc, nfeat = documents.shape\n",
    "    \n",
    "    signatures = pd.DataFrame(index=documents.index.copy(), columns=range(len(a)))\n",
    "\n",
    "    for doc_idx in documents.index:\n",
    "        feats = documents.loc[doc_idx]\n",
    "        \n",
    "        # select only those features with value 1\n",
    "        feats = feats[feats != 0]\n",
    "    \n",
    "        minhashes = apply_hash(feats.index, a, b, p, n)\n",
    "        signatures.loc[doc_idx] = np.min(minhashes, axis=1)\n",
    "\n",
    "    return signatures\n",
    "\n",
    "\n",
    "signatures = get_signatures(all_x, a, b, p, n)\n",
    "signatures[:3]"
   ]
  },
  {
   "cell_type": "markdown",
   "id": "eba3878a",
   "metadata": {},
   "source": [
    "Now that we have a minhash signature for each document, we can use m general hash functions to assign each to a bucket, with collisions being likely only for signatures which match."
   ]
  },
  {
   "cell_type": "code",
   "execution_count": 6,
   "id": "81b15997",
   "metadata": {},
   "outputs": [
    {
     "data": {
      "text/plain": [
       "[[], [], [], [], []]"
      ]
     },
     "execution_count": 6,
     "metadata": {},
     "output_type": "execute_result"
    }
   ],
   "source": [
    "def general_hash_functions(p, l):\n",
    "    c, d, e = [1], [1], [1]\n",
    "    # ensure c, d, e do not share any values\n",
    "    while set(c).intersection(d).intersection(e):\n",
    "        c = random.sample(range(1, p), l)\n",
    "        d = random.sample(range(1, p), l)\n",
    "        e = random.sample(range(0, p), l)\n",
    "    return c, d, e\n",
    "\n",
    "\n",
    "# scalar application of general hash function\n",
    "def apply_hash2(x, c, d, e, p, m):\n",
    "    return ((c*x[0] + d*x[1] + e) % p) % m\n",
    "\n",
    "\n",
    "def get_bucket_bands(signatures, c, d, e, p, m, l, k):\n",
    "    bucket_bands = [[[] for j in range(m)] for i in range(l)]\n",
    "    \n",
    "    for i in signatures.index:\n",
    "        sig = signatures.loc[i]\n",
    "        \n",
    "        # separate signature into k-length bands\n",
    "        sig_band = np.stack([sig[x:x+k] for x in range(0, l*k, k)])\n",
    "        for j in range(l):\n",
    "            for o in range(l):\n",
    "                # apply hash to determine which bucket doc belongs in\n",
    "                bucket = apply_hash2(sig_band[o], c[j], d[j], e[j], p, m)\n",
    "                bucket_bands[j][bucket].append(i)\n",
    "                \n",
    "    return bucket_bands\n",
    "\n",
    "\n",
    "# choose m between n and p\n",
    "m = (n + p) // 2\n",
    "\n",
    "# get randomised coefficients of general hash function\n",
    "c, d, e = general_hash_functions(p, l=10)\n",
    "\n",
    "# get bucket bands given document signatures\n",
    "bucket_bands = get_bucket_bands(signatures, c, d, e, p, m, l=10, k=2)\n",
    "bucket_bands[0][:5]"
   ]
  },
  {
   "cell_type": "markdown",
   "id": "9ed1fd00",
   "metadata": {},
   "source": [
    "Now that we have 10 bands with m buckets each, we can consider those buckets which contain multiple document ID's as colliding documents."
   ]
  },
  {
   "cell_type": "code",
   "execution_count": 7,
   "id": "be4ae35b",
   "metadata": {},
   "outputs": [
    {
     "data": {
      "text/plain": [
       "<AxesSubplot:>"
      ]
     },
     "execution_count": 7,
     "metadata": {},
     "output_type": "execute_result"
    },
    {
     "data": {
      "image/png": "[encoded data removed]",
      "text/plain": [
       "<Figure size 1152x432 with 2 Axes>"
      ]
     },
     "metadata": {
      "needs_background": "light"
     },
     "output_type": "display_data"
    }
   ],
   "source": [
    "def get_collisions(bucket_bands, m):\n",
    "    n_bands = len(bucket_bands)\n",
    "    collisions = np.zeros([n_bands, m], dtype=int)\n",
    "    for i in range(n_bands):\n",
    "        for j in range(m):\n",
    "            collisions[i, j] = len(bucket_bands[i][j])\n",
    "    return collisions\n",
    "\n",
    "collisions = get_collisions(bucket_bands, m)\n",
    "\n",
    "rcParams['figure.figsize'] = 16, 6\n",
    "heatmap(collisions)"
   ]
  },
  {
   "cell_type": "markdown",
   "id": "2f55a7b5",
   "metadata": {},
   "source": [
    "Due to m's large size, document signature collisions are quite rare, so the heatmap is mostly dark except for a few hot spots.\n",
    "\n",
    "# Part 2: Nearest Neighbor Search\n",
    "\n",
    "### a) Query LSH for top 10 matches with each test document"
   ]
  },
  {
   "cell_type": "code",
   "execution_count": 8,
   "id": "e8003825",
   "metadata": {},
   "outputs": [
    {
     "data": {
      "text/plain": [
       "{531: [[531, 1.0, 'entertainment'],\n",
       "  [392, 0.15, 'entertainment'],\n",
       "  [491, 0.15, 'entertainment'],\n",
       "  [174, 0.15, 'entertainment'],\n",
       "  [406, 0.15, 'entertainment'],\n",
       "  [412, 0.15, 'entertainment'],\n",
       "  [37, 0.1, 'entertainment'],\n",
       "  [38, 0.1, 'tech'],\n",
       "  [201, 0.1, 'tech'],\n",
       "  [11, 0.1, 'entertainment']],\n",
       " 532: [[532, 1.0, 'entertainment'],\n",
       "  [437, 0.25, 'entertainment'],\n",
       "  [352, 0.2, 'entertainment'],\n",
       "  [1, 0.1, 'tech'],\n",
       "  [4, 0.1, 'entertainment'],\n",
       "  [36, 0.1, 'tech'],\n",
       "  [459, 0.1, 'entertainment'],\n",
       "  [48, 0.1, 'entertainment'],\n",
       "  [212, 0.1, 'entertainment'],\n",
       "  [153, 0.1, 'tech']],\n",
       " 533: [[533, 1.0, 'tech'],\n",
       "  [229, 0.3, 'tech'],\n",
       "  [149, 0.3, 'tech'],\n",
       "  [226, 0.25, 'tech'],\n",
       "  [325, 0.25, 'tech'],\n",
       "  [271, 0.25, 'tech'],\n",
       "  [402, 0.25, 'tech'],\n",
       "  [147, 0.25, 'tech'],\n",
       "  [407, 0.25, 'tech'],\n",
       "  [283, 0.25, 'tech']],\n",
       " 534: [[534, 1.0, 'tech'],\n",
       "  [330, 0.25, 'tech'],\n",
       "  [512, 0.2, 'tech'],\n",
       "  [67, 0.2, 'tech'],\n",
       "  [390, 0.2, 'tech'],\n",
       "  [492, 0.2, 'tech'],\n",
       "  [526, 0.2, 'tech'],\n",
       "  [260, 0.15, 'tech'],\n",
       "  [134, 0.15, 'tech'],\n",
       "  [264, 0.15, 'tech']]}"
      ]
     },
     "execution_count": 8,
     "metadata": {},
     "output_type": "execute_result"
    }
   ],
   "source": [
    "def est_jaccard(x, y):\n",
    "    return sum([x_ == y_ for x_, y_ in zip(x, y)]) / len(x)\n",
    "\n",
    "\n",
    "# yield the full set of documents which collide with the given query signatures in any band\n",
    "def query_collisions(bucket_bands, query_sigs, p, m, l, k):\n",
    "    collisions = {i: set() for i in query_sigs.index}\n",
    "    for q in query_sigs.index:\n",
    "        sig = query_sigs.loc[q]\n",
    "        sig_bands = np.stack([sig[x:x+k] for x in range(0, l*k, k)])\n",
    "        for j in range(l):\n",
    "            for o in range(l):\n",
    "                bucket = apply_hash2(sig_bands[o], c[j], d[j], e[j], p, m)\n",
    "                collisions[q] = collisions[q].union(set(bucket_bands[j][bucket]))\n",
    "    return collisions\n",
    "\n",
    "\n",
    "# yield the 10 nearest documents of each query, by jaccard similarity between signatures\n",
    "def query_est_jaccards(query_sigs, query_cols, signatures, all_y, top_n=10):\n",
    "    est_jaccards = {i: {} for i in query_sigs.index}\n",
    "    \n",
    "    for i in query_sigs.index:\n",
    "        for match_id in query_cols[i]:\n",
    "            est_dist = est_jaccard(query_sigs.loc[i], signatures.loc[match_id])\n",
    "            if est_dist not in est_jaccards[i]:\n",
    "                est_jaccards[i][est_dist] = set()\n",
    "            # add matched document id to this distance's associated set of documents\n",
    "            est_jaccards[i][est_dist].add(match_id) \n",
    "    \n",
    "    nearest = {i: [] for i in query_sigs.index}\n",
    "    \n",
    "    for i, dic in est_jaccards.items():\n",
    "        # add documents in descending order of jaccard distance between signatures\n",
    "        dists = reversed(sorted(dic.keys()))\n",
    "        for dist in dists:\n",
    "            for match_id in dic[dist]:\n",
    "                if len(nearest[i]) < top_n:\n",
    "                    nearest[i].append([match_id, dist, all_y[match_id]])\n",
    "    return nearest\n",
    "\n",
    "\n",
    "# get minhash signatures of each query document\n",
    "query_sigs = get_signatures(query_x, a, b, p, n)\n",
    "\n",
    "t1 = time.time()\n",
    "# get documents which collide with query documents in some band/bucket\n",
    "query_cols = query_collisions(bucket_bands, query_sigs, p, m, l=10, k=2)\n",
    "\n",
    "# get ten nearest colliding documents by jaccard similarity between signatures\n",
    "lsh_matches = query_est_jaccards(query_sigs, query_cols, signatures, all_y)\n",
    "t2 = time.time()\n",
    "\n",
    "lsh_matches"
   ]
  },
  {
   "cell_type": "markdown",
   "id": "b3a07d5b",
   "metadata": {},
   "source": [
    "### b) Report full Jaccard similarity of query documents"
   ]
  },
  {
   "cell_type": "code",
   "execution_count": 9,
   "id": "a58f9976",
   "metadata": {},
   "outputs": [
    {
     "data": {
      "text/plain": [
       "{531: [[531, 1.0, 'entertainment'],\n",
       "  [145, 0.197, 'entertainment'],\n",
       "  [70, 0.168, 'entertainment'],\n",
       "  [314, 0.165, 'entertainment'],\n",
       "  [130, 0.115, 'entertainment'],\n",
       "  [412, 0.072, 'entertainment'],\n",
       "  [317, 0.065, 'entertainment'],\n",
       "  [503, 0.062, 'entertainment'],\n",
       "  [35, 0.062, 'entertainment'],\n",
       "  [321, 0.06, 'entertainment']],\n",
       " 532: [[532, 1.0, 'entertainment'],\n",
       "  [419, 0.094, 'entertainment'],\n",
       "  [42, 0.094, 'entertainment'],\n",
       "  [520, 0.092, 'entertainment'],\n",
       "  [524, 0.092, 'tech'],\n",
       "  [251, 0.091, 'entertainment'],\n",
       "  [197, 0.091, 'entertainment'],\n",
       "  [501, 0.09, 'tech'],\n",
       "  [221, 0.09, 'tech'],\n",
       "  [125, 0.089, 'tech']],\n",
       " 533: [[533, 1.0, 'tech'],\n",
       "  [64, 0.167, 'tech'],\n",
       "  [306, 0.166, 'tech'],\n",
       "  [484, 0.139, 'tech'],\n",
       "  [117, 0.139, 'tech'],\n",
       "  [408, 0.137, 'tech'],\n",
       "  [275, 0.137, 'tech'],\n",
       "  [495, 0.136, 'tech'],\n",
       "  [132, 0.127, 'tech'],\n",
       "  [464, 0.127, 'tech']],\n",
       " 534: [[534, 1.0, 'tech'],\n",
       "  [211, 0.123, 'tech'],\n",
       "  [324, 0.111, 'tech'],\n",
       "  [330, 0.111, 'tech'],\n",
       "  [371, 0.111, 'tech'],\n",
       "  [183, 0.111, 'tech'],\n",
       "  [525, 0.108, 'tech'],\n",
       "  [83, 0.091, 'tech'],\n",
       "  [440, 0.091, 'tech'],\n",
       "  [255, 0.088, 'tech']]}"
      ]
     },
     "execution_count": 9,
     "metadata": {},
     "output_type": "execute_result"
    }
   ],
   "source": [
    "def full_jaccard(x, y):\n",
    "    return sum(np.logical_and(x, y)) / sum(np.logical_or(x, y))\n",
    "\n",
    "\n",
    "def query_full_jaccards(query, docs, top_n=10):\n",
    "    jaccards = {i: {} for i in query.index}\n",
    "    for i in query.index:\n",
    "        for j in docs.index:\n",
    "            dist = full_jaccard(query.loc[i], docs.loc[j])\n",
    "            if dist not in jaccards[i]:\n",
    "                jaccards[i][dist] = set()\n",
    "            jaccards[i][dist].add(j) \n",
    "    \n",
    "    nearest = {i: [] for i in query.index}\n",
    "    for i, dic in jaccards.items():\n",
    "        for dist in reversed(sorted(dic.keys())):\n",
    "            for match_id in dic[dist]:\n",
    "                if len(nearest[i]) < top_n:\n",
    "                    nearest[i].append([match_id, round(dist, 3), all_y[match_id]])\n",
    "    return nearest\n",
    "\n",
    "\n",
    "t3 = time.time()\n",
    "# get top ten full jaccard similarity matches for each query document\n",
    "jaccard_matches = query_full_jaccards(query_x, all_x)\n",
    "t4 = time.time()\n",
    "\n",
    "jaccard_matches"
   ]
  },
  {
   "cell_type": "markdown",
   "id": "c547b6c8",
   "metadata": {},
   "source": [
    "### c) Compare LSH query time to full Jaccard comparison time"
   ]
  },
  {
   "cell_type": "code",
   "execution_count": 10,
   "id": "c233969b",
   "metadata": {},
   "outputs": [
    {
     "name": "stdout",
     "output_type": "stream",
     "text": [
      "Avg LSH query time: 9ms\n",
      "Avg Jaccard comparison time: 2013ms\n"
     ]
    }
   ],
   "source": [
    "# take average of total time to query and jaccard the 4 docs\n",
    "avg_lsh_time = 1000 * (t2-t1) / len(query_y)\n",
    "avg_jaccard_time = 1000 * (t4-t3) / len(query_y)\n",
    "\n",
    "print(f\"Avg LSH query time: {avg_lsh_time:.0f}ms\")\n",
    "print(f\"Avg Jaccard comparison time: {avg_jaccard_time:.0f}ms\")"
   ]
  },
  {
   "cell_type": "markdown",
   "id": "e1173318",
   "metadata": {},
   "source": [
    "The LSH query time is significantly less than the full Jaccard similarity search: LSH is 2 orders of magnitude faster. The difference in performance remains to be seen, but this difference in speed makes a compelling argument for use of LSH.\n",
    "\n",
    "# Part 3: Search Quality Evaluation\n",
    "### a) Investigate impact of hash size k"
   ]
  },
  {
   "cell_type": "code",
   "execution_count": 11,
   "id": "7b557ed9",
   "metadata": {},
   "outputs": [],
   "source": [
    "def F1_score(lsh_matches, jaccard_matches):\n",
    "    # extract document IDs from match lists\n",
    "    estimated = {match[0] for match in lsh_matches}\n",
    "    ground_truth = {match[0] for match in jaccard_matches}\n",
    "    tp = len(estimated & ground_truth)\n",
    "    fp = len(estimated - ground_truth)\n",
    "    fn = len(ground_truth - estimated)\n",
    "    return tp / (tp + ((fp + fn) / 2))"
   ]
  },
  {
   "cell_type": "code",
   "execution_count": 12,
   "id": "4f4c54a0",
   "metadata": {},
   "outputs": [
    {
     "name": "stdout",
     "output_type": "stream",
     "text": [
      "k=2: Avg F1 0.2250; Avg query time 7ms\n",
      "k=4: Avg F1 0.1750; Avg query time 7ms\n",
      "k=8: Avg F1 0.3250; Avg query time 9ms\n"
     ]
    }
   ],
   "source": [
    "scores = []\n",
    "K = [2, 4, 8]\n",
    "for k in K:\n",
    "    a, b = generate_hash_functions(p, l=10, k=k)\n",
    "    signatures = get_signatures(all_x, a, b, p, n)\n",
    "    \n",
    "    c, d, e = general_hash_functions(p, l=10)\n",
    "    bucket_bands = get_bucket_bands(signatures, c, d, e, p, m, l=10, k=k)\n",
    "    \n",
    "    collisions = get_collisions(bucket_bands, m)\n",
    "    \n",
    "    query_sigs = get_signatures(query_x, a, b, p, n)  \n",
    "    \n",
    "    t1 = time.time()\n",
    "    query_cols = query_collisions(bucket_bands, query_sigs, p, m, l=10, k=k)\n",
    "    lsh_matches = query_est_jaccards(query_sigs, query_cols, signatures, all_y)\n",
    "    t2 = time.time()\n",
    "    \n",
    "    f1 = np.mean([F1_score(jaccard_matches[i], lsh_matches[i]) for i in query_x.index])\n",
    "    scores.append(f1)\n",
    "    \n",
    "    avg_time = 1000 * (t2-t1) / len(query_y)\n",
    "    print(f\"k={k}: Avg F1 {f1:.4f}; Avg query time {avg_time:.0f}ms\")"
   ]
  },
  {
   "cell_type": "code",
   "execution_count": 13,
   "id": "154ef234",
   "metadata": {},
   "outputs": [
    {
     "data": {
      "text/plain": [
       "<AxesSubplot:>"
      ]
     },
     "execution_count": 13,
     "metadata": {},
     "output_type": "execute_result"
    },
    {
     "data": {
      "image/png": "[encoded data removed]",
      "text/plain": [
       "<Figure size 432x432 with 1 Axes>"
      ]
     },
     "metadata": {
      "needs_background": "light"
     },
     "output_type": "display_data"
    }
   ],
   "source": [
    "rcParams['figure.figsize'] = 6, 6\n",
    "lineplot(x=K, y=scores)"
   ]
  },
  {
   "cell_type": "markdown",
   "id": "6cfbe9c9",
   "metadata": {},
   "source": [
    "### b) How to tune k to increase F1 and reduce query time.\n",
    "\n",
    "The average F1 score seems to consistently favor k=8, and the average query time of k=8 is not significantly longer than other values of k. Therefore, I would prefer to use 8 or higher as the value of k."
   ]
  }
 ],
 "metadata": {
  "kernelspec": {
   "display_name": "Python 3 (ipykernel)",
   "language": "python",
   "name": "python3"
  },
  "language_info": {
   "codemirror_mode": {
    "name": "ipython",
    "version": 3
   },
   "file_extension": ".py",
   "mimetype": "text/x-python",
   "name": "python",
   "nbconvert_exporter": "python",
   "pygments_lexer": "ipython3",
   "version": "3.9.12"
  }
 },
 "nbformat": 4,
 "nbformat_minor": 5
}
