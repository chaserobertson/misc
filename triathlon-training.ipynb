{
 "cells": [
  {
   "cell_type": "markdown",
   "id": "cb97a004-5029-41df-9011-465c1ea62db8",
   "metadata": {},
   "source": [
    "Retrieve and parse HTML, referring to browser's `Inspect` utility to analyse relevant structure."
   ]
  },
  {
   "cell_type": "code",
   "execution_count": 1,
   "id": "7a2588d7-f703-4d42-bbdb-79ab1f8354cc",
   "metadata": {},
   "outputs": [
    {
     "data": {
      "text/plain": [
       "17"
      ]
     },
     "execution_count": 1,
     "metadata": {},
     "output_type": "execute_result"
    }
   ],
   "source": [
    "import requests\n",
    "import bs4\n",
    "import pandas as pd\n",
    "\n",
    "URL = 'https://www.triathlete.com/training/super-simple-ironman-70-3-triathlon-training-plan/'\n",
    "RACE_DAY = '9/8/2024'\n",
    "OUT_FILE = '~/Desktop/sc.csv'\n",
    "\n",
    "response = requests.get(URL)\n",
    "soup = bs4.BeautifulSoup(response.text)\n",
    "tables = soup.find_all('table')\n",
    "len(tables)"
   ]
  },
  {
   "cell_type": "markdown",
   "id": "df8a0a13-9ab6-4d45-bccb-592dd86cf831",
   "metadata": {},
   "source": [
    "Prep data frame and append a new row for each day in each week-table (all tables except the first table)."
   ]
  },
  {
   "cell_type": "code",
   "execution_count": 2,
   "id": "fa5e2e10-1b3b-41ae-aab5-a3d1310f6165",
   "metadata": {
    "scrolled": true
   },
   "outputs": [
    {
     "data": {
      "text/html": [
       "<div>\n",
       "<style scoped>\n",
       "    .dataframe tbody tr th:only-of-type {\n",
       "        vertical-align: middle;\n",
       "    }\n",
       "\n",
       "    .dataframe tbody tr th {\n",
       "        vertical-align: top;\n",
       "    }\n",
       "\n",
       "    .dataframe thead th {\n",
       "        text-align: right;\n",
       "    }\n",
       "</style>\n",
       "<table border=\"1\" class=\"dataframe\">\n",
       "  <thead>\n",
       "    <tr style=\"text-align: right;\">\n",
       "      <th></th>\n",
       "      <th>dow</th>\n",
       "      <th>wo1</th>\n",
       "      <th>wo2</th>\n",
       "      <th>wo3</th>\n",
       "    </tr>\n",
       "  </thead>\n",
       "  <tbody>\n",
       "    <tr>\n",
       "      <th>0</th>\n",
       "      <td>Monday</td>\n",
       "      <td>Rest</td>\n",
       "      <td></td>\n",
       "      <td></td>\n",
       "    </tr>\n",
       "    <tr>\n",
       "      <th>1</th>\n",
       "      <td>Tuesday</td>\n",
       "      <td>Bike 40 minutes moderate with 4 x 30-second sp...</td>\n",
       "      <td></td>\n",
       "      <td></td>\n",
       "    </tr>\n",
       "    <tr>\n",
       "      <th>2</th>\n",
       "      <td>Wednesday</td>\n",
       "      <td>Swim 800 yards total. Main set: 8 x 25 yards, ...</td>\n",
       "      <td>Run 4 miles moderate + 2 x 10-second hill spri...</td>\n",
       "      <td></td>\n",
       "    </tr>\n",
       "    <tr>\n",
       "      <th>3</th>\n",
       "      <td>Thursday</td>\n",
       "      <td>Bike 40 minutes moderate.</td>\n",
       "      <td></td>\n",
       "      <td></td>\n",
       "    </tr>\n",
       "    <tr>\n",
       "      <th>4</th>\n",
       "      <td>Friday</td>\n",
       "      <td>Swim 800 yards total. Main set: 3 x 100 yards ...</td>\n",
       "      <td>Run 4 miles moderate.</td>\n",
       "      <td></td>\n",
       "    </tr>\n",
       "  </tbody>\n",
       "</table>\n",
       "</div>"
      ],
      "text/plain": [
       "         dow                                                wo1  \\\n",
       "0     Monday                                               Rest   \n",
       "1    Tuesday  Bike 40 minutes moderate with 4 x 30-second sp...   \n",
       "2  Wednesday  Swim 800 yards total. Main set: 8 x 25 yards, ...   \n",
       "3   Thursday                          Bike 40 minutes moderate.   \n",
       "4     Friday  Swim 800 yards total. Main set: 3 x 100 yards ...   \n",
       "\n",
       "                                                 wo2 wo3  \n",
       "0                                                         \n",
       "1                                                         \n",
       "2  Run 4 miles moderate + 2 x 10-second hill spri...      \n",
       "3                                                         \n",
       "4                              Run 4 miles moderate.      "
      ]
     },
     "execution_count": 2,
     "metadata": {},
     "output_type": "execute_result"
    }
   ],
   "source": [
    "df = pd.DataFrame({'dow': [], 'wo1': [], 'wo2': [], 'wo3': []})\n",
    "\n",
    "for i, t in enumerate(tables):\n",
    "    if i == 0: continue\n",
    "    # print(f'Week {i}')\n",
    "    \n",
    "    trs = t.find_all('tr')\n",
    "    for tr in trs:\n",
    "        tds = tr.find_all('td')\n",
    "        # print(' | '.join(td.text for td in tds))\n",
    "        df.loc[df.shape[0]] = [td.text for td in tds] + ([''] if i < 16 else [])\n",
    "        \n",
    "df.head()"
   ]
  },
  {
   "cell_type": "markdown",
   "id": "12a82af6-348a-4a49-84c7-c260cb56dadb",
   "metadata": {},
   "source": [
    "Given the race day as the end date, back-fill dates until training day 1."
   ]
  },
  {
   "cell_type": "code",
   "execution_count": 3,
   "id": "e9fbda0c-2767-48a1-ba8c-83a5669b94c0",
   "metadata": {
    "scrolled": true
   },
   "outputs": [
    {
     "data": {
      "text/html": [
       "<div>\n",
       "<style scoped>\n",
       "    .dataframe tbody tr th:only-of-type {\n",
       "        vertical-align: middle;\n",
       "    }\n",
       "\n",
       "    .dataframe tbody tr th {\n",
       "        vertical-align: top;\n",
       "    }\n",
       "\n",
       "    .dataframe thead th {\n",
       "        text-align: right;\n",
       "    }\n",
       "</style>\n",
       "<table border=\"1\" class=\"dataframe\">\n",
       "  <thead>\n",
       "    <tr style=\"text-align: right;\">\n",
       "      <th></th>\n",
       "      <th>dow</th>\n",
       "      <th>wo1</th>\n",
       "      <th>wo2</th>\n",
       "      <th>wo3</th>\n",
       "      <th>start date</th>\n",
       "    </tr>\n",
       "  </thead>\n",
       "  <tbody>\n",
       "    <tr>\n",
       "      <th>0</th>\n",
       "      <td>Monday</td>\n",
       "      <td>Rest</td>\n",
       "      <td></td>\n",
       "      <td></td>\n",
       "      <td>2024-05-20</td>\n",
       "    </tr>\n",
       "    <tr>\n",
       "      <th>1</th>\n",
       "      <td>Tuesday</td>\n",
       "      <td>Bike 40 minutes moderate with 4 x 30-second sp...</td>\n",
       "      <td></td>\n",
       "      <td></td>\n",
       "      <td>2024-05-21</td>\n",
       "    </tr>\n",
       "    <tr>\n",
       "      <th>2</th>\n",
       "      <td>Wednesday</td>\n",
       "      <td>Swim 800 yards total. Main set: 8 x 25 yards, ...</td>\n",
       "      <td>Run 4 miles moderate + 2 x 10-second hill spri...</td>\n",
       "      <td></td>\n",
       "      <td>2024-05-22</td>\n",
       "    </tr>\n",
       "    <tr>\n",
       "      <th>3</th>\n",
       "      <td>Thursday</td>\n",
       "      <td>Bike 40 minutes moderate.</td>\n",
       "      <td></td>\n",
       "      <td></td>\n",
       "      <td>2024-05-23</td>\n",
       "    </tr>\n",
       "    <tr>\n",
       "      <th>4</th>\n",
       "      <td>Friday</td>\n",
       "      <td>Swim 800 yards total. Main set: 3 x 100 yards ...</td>\n",
       "      <td>Run 4 miles moderate.</td>\n",
       "      <td></td>\n",
       "      <td>2024-05-24</td>\n",
       "    </tr>\n",
       "  </tbody>\n",
       "</table>\n",
       "</div>"
      ],
      "text/plain": [
       "         dow                                                wo1  \\\n",
       "0     Monday                                               Rest   \n",
       "1    Tuesday  Bike 40 minutes moderate with 4 x 30-second sp...   \n",
       "2  Wednesday  Swim 800 yards total. Main set: 8 x 25 yards, ...   \n",
       "3   Thursday                          Bike 40 minutes moderate.   \n",
       "4     Friday  Swim 800 yards total. Main set: 3 x 100 yards ...   \n",
       "\n",
       "                                                 wo2 wo3 start date  \n",
       "0                                                        2024-05-20  \n",
       "1                                                        2024-05-21  \n",
       "2  Run 4 miles moderate + 2 x 10-second hill spri...     2024-05-22  \n",
       "3                                                        2024-05-23  \n",
       "4                              Run 4 miles moderate.     2024-05-24  "
      ]
     },
     "execution_count": 3,
     "metadata": {},
     "output_type": "execute_result"
    }
   ],
   "source": [
    "df['start date'] = pd.date_range(end=RACE_DAY, periods=df.shape[0])\n",
    "df.head()"
   ]
  },
  {
   "cell_type": "markdown",
   "id": "4d38a358-560b-4381-94d2-9a61602ed208",
   "metadata": {},
   "source": [
    "Merge the multiple `wo` workout columns into just one, in a long format with repeated dates.\n",
    "\n",
    "Drop rows with empty descriptions, so there aren't any extra empty workouts."
   ]
  },
  {
   "cell_type": "code",
   "execution_count": 4,
   "id": "2a5ea9d7-99e8-4cfc-8d89-5d8881c1281c",
   "metadata": {},
   "outputs": [
    {
     "data": {
      "text/html": [
       "<div>\n",
       "<style scoped>\n",
       "    .dataframe tbody tr th:only-of-type {\n",
       "        vertical-align: middle;\n",
       "    }\n",
       "\n",
       "    .dataframe tbody tr th {\n",
       "        vertical-align: top;\n",
       "    }\n",
       "\n",
       "    .dataframe thead th {\n",
       "        text-align: right;\n",
       "    }\n",
       "</style>\n",
       "<table border=\"1\" class=\"dataframe\">\n",
       "  <thead>\n",
       "    <tr style=\"text-align: right;\">\n",
       "      <th></th>\n",
       "      <th>start date</th>\n",
       "      <th>description</th>\n",
       "    </tr>\n",
       "  </thead>\n",
       "  <tbody>\n",
       "    <tr>\n",
       "      <th>0</th>\n",
       "      <td>2024-05-20</td>\n",
       "      <td>Rest</td>\n",
       "    </tr>\n",
       "    <tr>\n",
       "      <th>1</th>\n",
       "      <td>2024-05-21</td>\n",
       "      <td>Bike 40 minutes moderate with 4 x 30-second sp...</td>\n",
       "    </tr>\n",
       "    <tr>\n",
       "      <th>2</th>\n",
       "      <td>2024-05-22</td>\n",
       "      <td>Swim 800 yards total. Main set: 8 x 25 yards, ...</td>\n",
       "    </tr>\n",
       "    <tr>\n",
       "      <th>3</th>\n",
       "      <td>2024-05-23</td>\n",
       "      <td>Bike 40 minutes moderate.</td>\n",
       "    </tr>\n",
       "    <tr>\n",
       "      <th>4</th>\n",
       "      <td>2024-05-24</td>\n",
       "      <td>Swim 800 yards total. Main set: 3 x 100 yards ...</td>\n",
       "    </tr>\n",
       "  </tbody>\n",
       "</table>\n",
       "</div>"
      ],
      "text/plain": [
       "  start date                                        description\n",
       "0 2024-05-20                                               Rest\n",
       "1 2024-05-21  Bike 40 minutes moderate with 4 x 30-second sp...\n",
       "2 2024-05-22  Swim 800 yards total. Main set: 8 x 25 yards, ...\n",
       "3 2024-05-23                          Bike 40 minutes moderate.\n",
       "4 2024-05-24  Swim 800 yards total. Main set: 3 x 100 yards ..."
      ]
     },
     "execution_count": 4,
     "metadata": {},
     "output_type": "execute_result"
    }
   ],
   "source": [
    "pivot = df.melt(\n",
    "    id_vars='start date', \n",
    "    value_name='description', \n",
    "    value_vars=['wo1', 'wo2', 'wo3']\n",
    ")\n",
    "pivot_reduced = pivot.drop('variable', axis=1).drop(pivot[pivot['description'] == ''].index)\n",
    "pivot_reduced.head()"
   ]
  },
  {
   "cell_type": "markdown",
   "id": "82f38ff9-51d4-4113-901e-e79f1e5afb2b",
   "metadata": {},
   "source": [
    "Use the first word of each workout description as its event subject/title, and re-sort by date for visual review."
   ]
  },
  {
   "cell_type": "code",
   "execution_count": 5,
   "id": "874b19e4-b7f4-44a0-a527-71b59c2e15dc",
   "metadata": {},
   "outputs": [
    {
     "data": {
      "text/html": [
       "<div>\n",
       "<style scoped>\n",
       "    .dataframe tbody tr th:only-of-type {\n",
       "        vertical-align: middle;\n",
       "    }\n",
       "\n",
       "    .dataframe tbody tr th {\n",
       "        vertical-align: top;\n",
       "    }\n",
       "\n",
       "    .dataframe thead th {\n",
       "        text-align: right;\n",
       "    }\n",
       "</style>\n",
       "<table border=\"1\" class=\"dataframe\">\n",
       "  <thead>\n",
       "    <tr style=\"text-align: right;\">\n",
       "      <th></th>\n",
       "      <th>start date</th>\n",
       "      <th>description</th>\n",
       "      <th>subject</th>\n",
       "    </tr>\n",
       "  </thead>\n",
       "  <tbody>\n",
       "    <tr>\n",
       "      <th>0</th>\n",
       "      <td>2024-05-20</td>\n",
       "      <td>Rest</td>\n",
       "      <td>REST</td>\n",
       "    </tr>\n",
       "    <tr>\n",
       "      <th>1</th>\n",
       "      <td>2024-05-21</td>\n",
       "      <td>Bike 40 minutes moderate with 4 x 30-second sp...</td>\n",
       "      <td>BIKE</td>\n",
       "    </tr>\n",
       "    <tr>\n",
       "      <th>2</th>\n",
       "      <td>2024-05-22</td>\n",
       "      <td>Swim 800 yards total. Main set: 8 x 25 yards, ...</td>\n",
       "      <td>SWIM</td>\n",
       "    </tr>\n",
       "    <tr>\n",
       "      <th>114</th>\n",
       "      <td>2024-05-22</td>\n",
       "      <td>Run 4 miles moderate + 2 x 10-second hill spri...</td>\n",
       "      <td>RUN</td>\n",
       "    </tr>\n",
       "    <tr>\n",
       "      <th>3</th>\n",
       "      <td>2024-05-23</td>\n",
       "      <td>Bike 40 minutes moderate.</td>\n",
       "      <td>BIKE</td>\n",
       "    </tr>\n",
       "    <tr>\n",
       "      <th>...</th>\n",
       "      <td>...</td>\n",
       "      <td>...</td>\n",
       "      <td>...</td>\n",
       "    </tr>\n",
       "    <tr>\n",
       "      <th>221</th>\n",
       "      <td>2024-09-06</td>\n",
       "      <td>Run 3 miles easy.</td>\n",
       "      <td>RUN</td>\n",
       "    </tr>\n",
       "    <tr>\n",
       "      <th>110</th>\n",
       "      <td>2024-09-07</td>\n",
       "      <td>Swim 10 minutes easy with 4 x 30 seconds at ra...</td>\n",
       "      <td>SWIM</td>\n",
       "    </tr>\n",
       "    <tr>\n",
       "      <th>222</th>\n",
       "      <td>2024-09-07</td>\n",
       "      <td>Bike 10 minutes with 4 x 30 seconds fast.</td>\n",
       "      <td>BIKE</td>\n",
       "    </tr>\n",
       "    <tr>\n",
       "      <th>334</th>\n",
       "      <td>2024-09-07</td>\n",
       "      <td>Run 10 minutes with 4 x 20 seconds at 90 perce...</td>\n",
       "      <td>RUN</td>\n",
       "    </tr>\n",
       "    <tr>\n",
       "      <th>111</th>\n",
       "      <td>2024-09-08</td>\n",
       "      <td>RACE DAY</td>\n",
       "      <td>RACE</td>\n",
       "    </tr>\n",
       "  </tbody>\n",
       "</table>\n",
       "<p>161 rows × 3 columns</p>\n",
       "</div>"
      ],
      "text/plain": [
       "    start date                                        description subject\n",
       "0   2024-05-20                                               Rest    REST\n",
       "1   2024-05-21  Bike 40 minutes moderate with 4 x 30-second sp...    BIKE\n",
       "2   2024-05-22  Swim 800 yards total. Main set: 8 x 25 yards, ...    SWIM\n",
       "114 2024-05-22  Run 4 miles moderate + 2 x 10-second hill spri...     RUN\n",
       "3   2024-05-23                          Bike 40 minutes moderate.    BIKE\n",
       "..         ...                                                ...     ...\n",
       "221 2024-09-06                                  Run 3 miles easy.     RUN\n",
       "110 2024-09-07  Swim 10 minutes easy with 4 x 30 seconds at ra...    SWIM\n",
       "222 2024-09-07          Bike 10 minutes with 4 x 30 seconds fast.    BIKE\n",
       "334 2024-09-07  Run 10 minutes with 4 x 20 seconds at 90 perce...     RUN\n",
       "111 2024-09-08                                           RACE DAY    RACE\n",
       "\n",
       "[161 rows x 3 columns]"
      ]
     },
     "execution_count": 5,
     "metadata": {},
     "output_type": "execute_result"
    }
   ],
   "source": [
    "pivot_reduced['subject'] = [x[0].upper() for x in pivot_reduced['description'].str.split()]\n",
    "pivot_reduced.sort_values('start date')"
   ]
  },
  {
   "cell_type": "markdown",
   "id": "30ddf075-1a53-4e48-8c9f-4eed6a09bfde",
   "metadata": {},
   "source": [
    "Write dataframe to CSV for calendar import."
   ]
  },
  {
   "cell_type": "code",
   "execution_count": 6,
   "id": "a9e13638-e20e-4788-ac02-eb5ce9224b67",
   "metadata": {},
   "outputs": [],
   "source": [
    "pivot_reduced.sort_values('start date').to_csv(OUT_FILE, index=False)"
   ]
  }
 ],
 "metadata": {
  "kernelspec": {
   "display_name": "Python 3 (ipykernel)",
   "language": "python",
   "name": "python3"
  },
  "language_info": {
   "codemirror_mode": {
    "name": "ipython",
    "version": 3
   },
   "file_extension": ".py",
   "mimetype": "text/x-python",
   "name": "python",
   "nbconvert_exporter": "python",
   "pygments_lexer": "ipython3",
   "version": "3.11.5"
  }
 },
 "nbformat": 4,
 "nbformat_minor": 5
}
