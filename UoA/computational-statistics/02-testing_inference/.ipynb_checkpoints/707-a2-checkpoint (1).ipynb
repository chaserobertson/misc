{
 "cells": [
  {
   "cell_type": "markdown",
   "id": "dba87000",
   "metadata": {},
   "source": [
    "# STATS 707 Assignment 2\n",
    "Chase Robertson  \n",
    "  crob873\n",
    "\n",
    "## 1.\n",
    "During the two previous decades, the number of earthquakes in an area average 1.4 per year. In the current 5 year period, the number of earthquakes in this area have been 0,1,1,0,1.\n",
    "\n",
    "- With α ≤ 0.1, formulate a test of the null hypothesis that the current earthquake rate is the same in the last 5 years as it was before against the alternative that the rate is different."
   ]
  },
  {
   "cell_type": "code",
   "execution_count": 21,
   "id": "0794ecf3",
   "metadata": {},
   "outputs": [
    {
     "name": "stdout",
     "output_type": "stream",
     "text": [
      "M where dpois is max:  0.6\n",
      "Max dpois:  0.01075401"
     ]
    }
   ],
   "source": [
    "annual_earthquakes = 1.4\n",
    "past_years_earthquakes <- c(0, 1, 1, 0, 1)\n",
    "\n",
    "m = seq(0, 3, 0.01)\n",
    "l = 0\n",
    "for (i in 1:length(m)) {\n",
    "    l[i] = prod(dpois(past_years_earthquakes, m[i]))\n",
    "}\n",
    "cat('M where dpois is max: ', m[which(l == max(l))])\n",
    "cat('\\nMax dpois: ', max(l))"
   ]
  },
  {
   "cell_type": "markdown",
   "id": "41e1393c",
   "metadata": {},
   "source": [
    "- What conclusion can you draw from the above data?  \n",
    "  With a p-value below our selected $\\alpha$ of 0.1, we can conclude that the current 5-year period's mean earthquake rate is lower than in the previous two decades.\n",
    "\n",
    "- Graph the power curve of your test."
   ]
  },
  {
   "cell_type": "markdown",
   "id": "9bbc0178",
   "metadata": {},
   "source": [
    "## 2.\n",
    "Suppose that the serious accidents along a certain stretch of highway follow a Poisson distribution with a mean of 1.2 accident per week. After a reduction in the speed limit along this stretch of highway, it is hoped that this average has decreased. Construct a test for reduction based on a five-week count with α ≤ 0.07."
   ]
  },
  {
   "cell_type": "markdown",
   "id": "dd02facc",
   "metadata": {},
   "source": [
    "## 3.\n",
    "Suppose that the moisture content per pound of a dehydrated protein concentrate is normally dis- tributed with a mean of 3.5 and a standard deviation of 0.5. A random sample of 16 specimens, each consisting of one pound of this concentrate, is to be tested. Letting X ̄ denote the sample mean of these measurements of moisture content:\n",
    "- What is the distribution of X ̄? Is it the exact or an approximate distribution?\n",
    "- What is the probability that:\n",
    "  - X ̄ will exceed 3.7?\n",
    "  - X ̄ will between 3.34 and 3.66?"
   ]
  },
  {
   "cell_type": "markdown",
   "id": "669c9eb5",
   "metadata": {},
   "source": [
    "## 4.\n",
    "Quality control: A shoe factory owns a machine that cuts pieces from slabs of compressed rubber to be used as soles on a certain brand of men’s shoe. The thickness measurement of these soles are normally distributed with the standard deviation σ = 0.2 millimeters. Occasionally, for some unforeseeable reason, the mean changes from its target setting of μ = 25 millimeters. To be able to take timely corrective measures, such as readjusting the machine’s setting, it is important to monitor product quality by measuring the thickness of a random sample of soles taken periodically from the machine’s output. Suppose that the following plan is used to monitor the product quality. The thickness measurement for a random sample of 5 soles are observed, and the sample mean X ̄ is recorded. If X ̄ < 24.8 or X ̄ > 25.2, the machine is considered to be out of control. Production is then halted and the machine is readjust.\n",
    "- When the true mean is μ = 25 millimeters, what is the probability that a sample will indicate “out of control”?\n",
    "- Suppose that the true mean has changed to μ = 25.3 millimeters. What is the probability that a sample will indicate “out of control”?\n",
    "(Note: In practical operations, control charts are plotted to show the x ̄ values at successive points of time to detect any drift in the process mean.)"
   ]
  },
  {
   "cell_type": "markdown",
   "id": "422d1861",
   "metadata": {},
   "source": [
    "## 5.\n",
    "A computer is programmed to make 100 draws at random with replacement from {0,0,0,0,1}, and take their sum. It does this 144 times; the average of the 144 sums is 21.13. The program is working fine. Or is it?"
   ]
  }
 ],
 "metadata": {
  "kernelspec": {
   "display_name": "R",
   "language": "R",
   "name": "ir"
  },
  "language_info": {
   "codemirror_mode": "r",
   "file_extension": ".r",
   "mimetype": "text/x-r-source",
   "name": "R",
   "pygments_lexer": "r",
   "version": "4.1.3"
  }
 },
 "nbformat": 4,
 "nbformat_minor": 5
}
