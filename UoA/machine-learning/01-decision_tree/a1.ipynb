{
 "cells": [
  {
   "cell_type": "markdown",
   "id": "30a919f9",
   "metadata": {},
   "source": [
    "# COMPSCI 762 Assignment 1 - Decision Tree Learning\n",
    "Chase Robertson  \n",
    "crob873"
   ]
  },
  {
   "cell_type": "code",
   "execution_count": 1,
   "id": "43abe8b4",
   "metadata": {},
   "outputs": [],
   "source": [
    "import os\n",
    "import pandas as pd\n",
    "import numpy as np\n",
    "from pathlib import Path\n",
    "from sklearn.model_selection import train_test_split\n",
    "\n",
    "pd.set_option('mode.chained_assignment',None)\n",
    "PATH_ROOT = Path(os.getcwd())\n",
    "\n",
    "RANDOM_STATE = 123456\n",
    "np.random.seed(RANDOM_STATE)"
   ]
  },
  {
   "cell_type": "markdown",
   "id": "1441d24a",
   "metadata": {},
   "source": [
    "# Task 1 - Data Preprocessing"
   ]
  },
  {
   "cell_type": "markdown",
   "id": "85f94d17",
   "metadata": {},
   "source": [
    "## Code and Results"
   ]
  },
  {
   "cell_type": "markdown",
   "id": "02942f49",
   "metadata": {},
   "source": [
    "### Preprocessing - `arrhythmia.csv`"
   ]
  },
  {
   "cell_type": "code",
   "execution_count": 2,
   "id": "1c580c7a",
   "metadata": {},
   "outputs": [
    {
     "name": "stdout",
     "output_type": "stream",
     "text": [
      "Raw arrhythmia data shape and # of nulls\n",
      "(452, 280)\n",
      "T              8\n",
      "P             22\n",
      "QRST           1\n",
      "J            376\n",
      "heartrate      1\n",
      "dtype: int64\n",
      "\n",
      "Preprocessed data shape and # of nulls:\n",
      "(361, 278)\n",
      "Series([], dtype: int64)\n",
      "\n",
      "Preprocessed data shape and # of nulls:\n",
      "(91, 278)\n",
      "Series([], dtype: int64)\n"
     ]
    }
   ],
   "source": [
    "heart = pd.read_csv(os.path.join(PATH_ROOT, 'arrhythmia.csv'), skipinitialspace=True, na_values='?')\n",
    "heart_nulls = heart.isnull().sum()\n",
    "\n",
    "print('Raw arrhythmia data shape and # of nulls')\n",
    "print(heart.shape)\n",
    "print(heart_nulls[heart_nulls > 0])\n",
    "\n",
    "heart2 = heart.drop('J', axis=1)\n",
    "\n",
    "# --- separate training and test sets\n",
    "heart_x = heart2.drop('class', axis=1)\n",
    "heart_y = heart2.loc[:, 'class']\n",
    "h_train_x, h_test_x, h_train_y, h_test_y = train_test_split(heart_x, heart_y, test_size=0.2, random_state=RANDOM_STATE)\n",
    "\n",
    "# Interpolate training and testing data separately\n",
    "for df in [h_train_x, h_test_x]:\n",
    "    df.interpolate(method='linear', inplace=True)\n",
    "    df_nulls = df.isnull().sum()\n",
    "    print('\\n'+'Preprocessed data shape and # of nulls:')\n",
    "    print(df.shape)\n",
    "    print(df_nulls[df_nulls > 0])"
   ]
  },
  {
   "cell_type": "markdown",
   "id": "e100cb5d",
   "metadata": {},
   "source": [
    "### Preprocessing - `BCP.csv`"
   ]
  },
  {
   "cell_type": "code",
   "execution_count": 3,
   "id": "36bba27c",
   "metadata": {},
   "outputs": [
    {
     "name": "stdout",
     "output_type": "stream",
     "text": [
      "(683, 11)\n",
      "Series([], dtype: int64)\n",
      "Index(['Sample code number', 'Clump Thickness', 'Uniformity of Cell Size',\n",
      "       'Uniformity of Cell Shape', 'Marginal Adhesion',\n",
      "       'Single Epithelial Cell Size', 'Bare Nuclei', 'Bland Chromatin',\n",
      "       'Normal Nucleoli', 'Mitoses', 'Class'],\n",
      "      dtype='object')\n"
     ]
    }
   ],
   "source": [
    "bcp = pd.read_csv(os.path.join(PATH_ROOT, 'BCP.csv'), dtype=np.int64)\n",
    "bcp_nulls = bcp.isnull().sum()\n",
    "print(bcp.shape)\n",
    "print(bcp_nulls[bcp_nulls > 0])\n",
    "print(bcp.columns)"
   ]
  },
  {
   "cell_type": "markdown",
   "id": "d02e7209",
   "metadata": {},
   "source": [
    "### Preprocessing - `website-phishing.csv`"
   ]
  },
  {
   "cell_type": "code",
   "execution_count": 4,
   "id": "e20c291b",
   "metadata": {},
   "outputs": [
    {
     "name": "stdout",
     "output_type": "stream",
     "text": [
      "(11055, 31)\n",
      "Series([], dtype: int64)\n",
      "Index(['having_IP_Address', 'URL_Length', 'Shortining_Service',\n",
      "       'having_At_Symbol', 'double_slash_redirecting', 'Prefix_Suffix',\n",
      "       'having_Sub_Domain', 'SSLfinal_State', 'Domain_registeration_length',\n",
      "       'Favicon', 'port', 'HTTPS_token', 'Request_URL', 'URL_of_Anchor',\n",
      "       'Links_in_tags', 'SFH', 'Submitting_to_email', 'Abnormal_URL',\n",
      "       'Redirect', 'on_mouseover', 'RightClick', 'popUpWidnow', 'Iframe',\n",
      "       'age_of_domain', 'DNSRecord', 'web_traffic', 'Page_Rank',\n",
      "       'Google_Index', 'Links_pointing_to_page', 'Statistical_report',\n",
      "       'Class'],\n",
      "      dtype='object')\n"
     ]
    }
   ],
   "source": [
    "website = pd.read_csv(os.path.join(PATH_ROOT, 'website-phishing.csv'), dtype=np.int64)\n",
    "website_nulls = website.isnull().sum()\n",
    "print(website.shape)\n",
    "print(website_nulls[website_nulls > 0])\n",
    "\n",
    "website.columns = website.columns.str.strip()\n",
    "print(website.columns)"
   ]
  },
  {
   "cell_type": "markdown",
   "id": "b1fbc483",
   "metadata": {},
   "source": [
    "## Discussion"
   ]
  },
  {
   "cell_type": "markdown",
   "id": "c8dfd04b",
   "metadata": {},
   "source": [
    "`arrhythmia`  \n",
    "  I opened the csv data source in a text editor to get an idea of the raw data before attempting an import. Each column looked to be numeric, but I noticed some `?` characters likely meant to denote missing values. I imported specifying the `na_values` argument to capture those question marks as missing values, and the `skipinitialspace` argument to eliminate the leading space in each column header. I then retrieved which attributes were missing, and how many values each of those attributes were missing. The `J` attribute was missing from the vast majority of rows, so it seemed best to simply drop that attribute entirely, as it most likely would not provide our models with any information. I judged it best to linear-interpolate the other missing values, as interpolated values would be more informative for the models than values from other imputation methods. This decision could be revisited after models are built, to confirm that interpolated values are indeed more informative than another imputation method. It did require, however, that I separate the data into testing and training sets before imputing, in order not to have information leak between training and testing data. Because the dataset is so small, it would actually be better to impute 5 separate folds of data and use those to cross-validate performance. I haven't done so in the interest of avoiding the refactoring time.  \n",
    "  \n",
    "`BCP`  \n",
    "  Visually scanning the raw CSV suggested that each attribute's values were integers, so missing values could be found by specifying data type on import and checking for type conversion failures. No nulls were found after conversion to np.int64, so there were no missing values in the BCP dataset.\n",
    "  \n",
    "`website-phishing`  \n",
    "  On visual inspection, all values seemed to be integers in the range `-1,0,1`. Converting to `np.int64` and searching for nulls should flush out any missing values, assuming missing values were not represented by an integer in the range `-1,0,1`. No missing values were found in this dataset under that assumption. Some column names in this dataset included leading and trailing whitespace, so a simple strip and replace was conducted to eliminate that whitespace."
   ]
  },
  {
   "cell_type": "markdown",
   "id": "f173b4b9",
   "metadata": {},
   "source": [
    "# Task 2 - Model Implementation"
   ]
  },
  {
   "cell_type": "markdown",
   "id": "1d36a665",
   "metadata": {},
   "source": [
    "## Utility Functions"
   ]
  },
  {
   "cell_type": "code",
   "execution_count": 5,
   "id": "5021466a",
   "metadata": {},
   "outputs": [],
   "source": [
    "from sklearn.tree import DecisionTreeClassifier\n",
    "from sklearn.model_selection import cross_validate\n",
    "from sklearn.model_selection import GridSearchCV\n",
    "\n",
    "\n",
    "def Tree(X_train, y_train, depth_range=[], max_depth=None):\n",
    "    \n",
    "    # if given a range of depths, cross-validate which is best\n",
    "    if depth_range != []:\n",
    "        temp_model = DecisionTreeClassifier(criterion='entropy', random_state=RANDOM_STATE)\n",
    "        parameters = [{'max_depth': depth_range}]\n",
    "        cv = GridSearchCV(temp_model, parameters)\n",
    "        cv.fit(X_train, y_train)\n",
    "        \n",
    "        best_depth = cv.best_params_['max_depth']\n",
    "    else:\n",
    "        best_depth = max_depth\n",
    "\n",
    "    model = DecisionTreeClassifier(criterion='entropy', max_depth=best_depth, random_state=RANDOM_STATE)\n",
    "    model.fit(X_train, y_train)\n",
    "    return model\n",
    "    \n",
    "    \n",
    "def print_results(name, models, X_train, X_test, y_train, y_test):\n",
    "    m = models[name]\n",
    "    train_score = m.score(X_train, y_train) * 100\n",
    "    test_score = m.score(X_test, y_test) * 100\n",
    "    print(name, '(depth {:})\\ttrain: {:.2f}%\\ttest: {:.2f}%'.format(m.tree_.max_depth, train_score, test_score))\n",
    "    \n",
    "    \n",
    "models = {}    "
   ]
  },
  {
   "cell_type": "markdown",
   "id": "88e46c44",
   "metadata": {},
   "source": [
    "## Code and Results"
   ]
  },
  {
   "cell_type": "markdown",
   "id": "62e9316e",
   "metadata": {},
   "source": [
    "### `arrhythmia.csv`"
   ]
  },
  {
   "cell_type": "code",
   "execution_count": 6,
   "id": "1b21fbf6",
   "metadata": {},
   "outputs": [
    {
     "name": "stdout",
     "output_type": "stream",
     "text": [
      "Arr Stump (depth 1)\ttrain: 55.96%\ttest: 60.44%\n",
      "Arr Unpruned (depth 10)\ttrain: 100.00%\ttest: 72.53%\n"
     ]
    },
    {
     "name": "stderr",
     "output_type": "stream",
     "text": [
      "/Users/chase/opt/anaconda3/lib/python3.9/site-packages/sklearn/model_selection/_split.py:666: UserWarning: The least populated class in y has only 2 members, which is less than n_splits=5.\n",
      "  warnings.warn((\"The least populated class in y has only %d\"\n"
     ]
    },
    {
     "name": "stdout",
     "output_type": "stream",
     "text": [
      "Arr Pruned (depth 5)\ttrain: 81.72%\ttest: 71.43%\n"
     ]
    }
   ],
   "source": [
    "models['Arr Stump'] = Tree(h_train_x, h_train_y, max_depth=1)\n",
    "print_results('Arr Stump', models, h_train_x, h_test_x, h_train_y, h_test_y)\n",
    "\n",
    "models['Arr Unpruned'] = Tree(h_train_x, h_train_y)\n",
    "print_results('Arr Unpruned', models, h_train_x, h_test_x, h_train_y, h_test_y)\n",
    "\n",
    "models['Arr Pruned'] = Tree(h_train_x, h_train_y, depth_range=range(1, 20))\n",
    "print_results('Arr Pruned', models, h_train_x, h_test_x, h_train_y, h_test_y)"
   ]
  },
  {
   "cell_type": "markdown",
   "id": "139e0ad4",
   "metadata": {},
   "source": [
    "### `BCP.csv`"
   ]
  },
  {
   "cell_type": "code",
   "execution_count": 7,
   "id": "1d048f86",
   "metadata": {},
   "outputs": [
    {
     "name": "stdout",
     "output_type": "stream",
     "text": [
      "BCP Stump (depth 1)\ttrain: 92.12%\ttest: 94.89%\n",
      "BCP Unpruned (depth 7)\ttrain: 100.00%\ttest: 96.35%\n",
      "BCP Pruned (depth 6)\ttrain: 99.27%\ttest: 96.35%\n"
     ]
    }
   ],
   "source": [
    "X = bcp.drop('Class', axis=1)\n",
    "y = bcp.loc[:, 'Class']\n",
    "bcp_X_train, bcp_X_test, bcp_y_train, bcp_y_test = train_test_split(X, y, test_size=0.2, random_state=RANDOM_STATE)\n",
    "\n",
    "\n",
    "# Fit models and display accuracy scores\n",
    "models['BCP Stump'] = Tree(bcp_X_train, bcp_y_train, max_depth=1)\n",
    "print_results('BCP Stump', models, bcp_X_train, bcp_X_test, bcp_y_train, bcp_y_test)\n",
    "\n",
    "models['BCP Unpruned'] = Tree(bcp_X_train, bcp_y_train)\n",
    "print_results('BCP Unpruned', models, bcp_X_train, bcp_X_test, bcp_y_train, bcp_y_test)\n",
    "\n",
    "models['BCP Pruned'] = Tree(bcp_X_train, bcp_y_train, depth_range=range(1,10))\n",
    "print_results('BCP Pruned', models, bcp_X_train, bcp_X_test, bcp_y_train, bcp_y_test)"
   ]
  },
  {
   "cell_type": "markdown",
   "id": "c0a75a73",
   "metadata": {},
   "source": [
    "### `website-phishing.csv`"
   ]
  },
  {
   "cell_type": "code",
   "execution_count": 8,
   "id": "86c93ff0",
   "metadata": {},
   "outputs": [
    {
     "name": "stdout",
     "output_type": "stream",
     "text": [
      "Web Stump (depth 1)\ttrain: 88.67%\ttest: 89.78%\n",
      "Web Unpruned (depth 24)\ttrain: 99.06%\ttest: 96.43%\n",
      "Web Pruned (depth 19)\ttrain: 98.69%\ttest: 96.65%\n"
     ]
    }
   ],
   "source": [
    "X = website.drop('Class', axis=1)\n",
    "y = website.loc[:, 'Class']\n",
    "web_X_train, web_X_test, web_y_train, web_y_test = train_test_split(X, y, test_size=0.2, random_state=RANDOM_STATE)\n",
    "\n",
    "\n",
    "# Fit models and display accuracy scores\n",
    "models['Web Stump'] = Tree(web_X_train, web_y_train, max_depth=1)\n",
    "print_results('Web Stump', models, web_X_train, web_X_test, web_y_train, web_y_test)\n",
    "\n",
    "models['Web Unpruned'] = Tree(web_X_train, web_y_train)\n",
    "print_results('Web Unpruned', models, web_X_train, web_X_test, web_y_train, web_y_test)\n",
    "\n",
    "models['Web Pruned'] = Tree(web_X_train, web_y_train, depth_range=range(10,30))\n",
    "print_results('Web Pruned', models, web_X_train, web_X_test, web_y_train, web_y_test)"
   ]
  },
  {
   "cell_type": "markdown",
   "id": "3732aa6a",
   "metadata": {},
   "source": [
    "## Discussion\n",
    "\n",
    "I chose to use pre-pruning for the pruned model, because the decision stumps were already quite accurate, and it was very simple to implement a hard limit on the tree depth. However, pruning in this way did not greatly improve test performance over the unpruned models."
   ]
  },
  {
   "cell_type": "markdown",
   "id": "a3c00e77",
   "metadata": {},
   "source": [
    "# Task 3 - Hyperparameter Tuning\n",
    "## Discussion\n",
    "I chose to use exhaustive grid search with cross-validation to select my pre-pruning hyperparameter. This method iterates through each combination of hyperparameters in the specified range of options. For each hyperparameter option, the training data is split into 5 different training/validation folds. The model is separately fit and tested on each training/validation set combination (fold), and the performance scores of each fold are averaged out to get a single performance score for the hyperparameter option being used. By repeating this process for each hyperparameter option, the \"best\" hyperparameter for the data can be selected with minimal bias. Grid search was selected over random search because only one hyperparameter needed tuning, so the two operations would likely be equivalent in runtime and result.\n",
    "\n",
    "  The `arrhythmia` dataset was optimised at a very shallow depth for the number of features included. I attributed this to an overabundance of features in the dataset relative to the number of examples. This assumption is strengthened by the very low test performance of all attempted models. There is simply not enough data to discover many relationships between the hundreds of features and the class.  \n",
    "  \n",
    "  The `bcp` dataset was optimised near its maximum possible depth: nearly all of the features were at least somewhat informative. However, the high test performance of the decision stump suggests that only one feature contributed the vast majority of information necessary to make an accurate prediction.  \n",
    "  \n",
    "  The `website` dataset turned out to be similar to `bcp`, though with many more features and many more examples. The decision stump scored quite well, with the unpruned and pre-pruned models using a high number of features to gain some small amount of new information. "
   ]
  },
  {
   "cell_type": "markdown",
   "id": "2c727c55",
   "metadata": {},
   "source": [
    "# Task 4 - Comparing Models"
   ]
  },
  {
   "cell_type": "markdown",
   "id": "b8c65580",
   "metadata": {},
   "source": [
    "## Code and Results"
   ]
  },
  {
   "cell_type": "code",
   "execution_count": 9,
   "id": "4ea2655b",
   "metadata": {},
   "outputs": [
    {
     "name": "stdout",
     "output_type": "stream",
     "text": [
      "Arr Stump vs Arr Unpruned \tp value: 0.199 \n",
      "Arr Stump vs Arr Pruned \tp value: 0.231 \n",
      "Arr Unpruned vs Arr Pruned \tp value: 0.707 \n",
      "\n",
      "BCP Stump vs BCP Unpruned \tp value: 0.012 \t<--Significant difference\n",
      "BCP Stump vs BCP Pruned \tp value: 0.011 \t<--Significant difference\n",
      "BCP Unpruned vs BCP Pruned \tp value: 0.384 \n",
      "\n",
      "Web Stump vs Web Unpruned \tp value: 0.000 \t<--Significant difference\n",
      "Web Stump vs Web Pruned \tp value: 0.000 \t<--Significant difference\n",
      "Web Unpruned vs Web Pruned \tp value: 0.597 \n"
     ]
    }
   ],
   "source": [
    "from mlxtend.evaluate import paired_ttest_5x2cv\n",
    "\n",
    "for m1 in ['Arr Stump', 'Arr Unpruned']:\n",
    "    for m2 in ['Arr Unpruned', 'Arr Pruned']:\n",
    "        if m1 == m2: # do not compare the unpruned model to itself\n",
    "            continue\n",
    "        t, p = paired_ttest_5x2cv(estimator1=models[m1], estimator2=models[m2],\n",
    "                                  X=h_train_x, y=h_train_y, random_seed=RANDOM_STATE)\n",
    "        flag = \"\\t<--Significant difference\" if p < 0.05 else \"\"\n",
    "        print(m1, 'vs', m2, '\\tp value: %.3f' % p, flag)\n",
    "print()\n",
    "\n",
    "for m1 in ['BCP Stump', 'BCP Unpruned']:\n",
    "    for m2 in ['BCP Unpruned', 'BCP Pruned']:\n",
    "        if m1 == m2: # do not compare the unpruned model to itself\n",
    "            continue\n",
    "        t, p = paired_ttest_5x2cv(estimator1=models[m1], estimator2=models[m2],\n",
    "                                  X=bcp_X_train, y=bcp_y_train, random_seed=RANDOM_STATE)\n",
    "        flag = \"\\t<--Significant difference\" if p < 0.05 else \"\"\n",
    "        print(m1, 'vs', m2, '\\tp value: %.3f' % p, flag)\n",
    "print()\n",
    "\n",
    "for m1 in ['Web Stump', 'Web Unpruned']:\n",
    "    for m2 in ['Web Unpruned', 'Web Pruned']:\n",
    "        if m1 == m2: # do not compare the unpruned model to itself\n",
    "            continue\n",
    "        t, p = paired_ttest_5x2cv(estimator1=models[m1], estimator2=models[m2],\n",
    "                                  X=web_X_train, y=web_y_train, random_seed=RANDOM_STATE)\n",
    "        flag = \"\\t<--Significant difference\" if p < 0.05 else \"\"\n",
    "        print(m1, 'vs', m2, '\\tp value: %.3f' % p, flag)"
   ]
  },
  {
   "cell_type": "markdown",
   "id": "6e7e8932",
   "metadata": {},
   "source": [
    "## Discussion\n",
    "Significance tests were conducted using a _5x2cv_ paired test. For 5 iterations, the data was split into two 50% halves, with one half used to fit the two specified models, and other half used to evaluate each of the models. The models were then fit and tested again, but with the two halves of data swapped. The difference in prediction accuracy between the two models for each of the two train/test phases was computed, and a mean and variance for the set of two differences is computed. When all 5 iterations finished, the very first accuracy difference computed was used, along with the variance of the distribution of mean differences in accuracy, to compute the _t_ statistic. The _t_ statistic given 5 degrees of freedom yielded the _p_ value, illuminating the statistical significance of the differences in prediction accuracy between models. Any reported _p_ values below the significance threshold of 0.05 indicate a statistically significant difference in prediction accuracy.   \n",
    "  \n",
    "  The differences in prediction accuracy between all three `arrhythmia` models were not statistically significant, because all three models performed so poorly. Likewise, a statistically significant difference between any unpruned vs pruned models trained on any dataset was not found, likely because the pre-pruning method was not able to remove any nodes without negatively affecting validation scores.\n",
    "  \n",
    "  There was a statistically significant difference in prediction accuracy between the decision stump model and the other two models, for both the `BCP` and `website` datasets. The decision stump was able to capture the most important feature in each dataset, and perform quite well as a result, but continuing to build the tree with more features made a significant difference on prediction accuracy."
   ]
  },
  {
   "cell_type": "markdown",
   "id": "23571f89",
   "metadata": {},
   "source": [
    "# Task 5 - Different Pruning Strategy\n",
    "## Utility Functions"
   ]
  },
  {
   "cell_type": "code",
   "execution_count": 10,
   "id": "ebed2ec0",
   "metadata": {},
   "outputs": [],
   "source": [
    "from sklearn.model_selection import RandomizedSearchCV\n",
    "\n",
    "def CostPrunedTree(X_train, y_train):\n",
    "    temp_model = DecisionTreeClassifier(criterion='entropy', random_state=RANDOM_STATE)\n",
    "    \n",
    "    path = temp_model.cost_complexity_pruning_path(X_train, y_train)\n",
    "    alphas = path.ccp_alphas[:-1]\n",
    "    parameters = [\n",
    "        {'ccp_alpha': alphas}\n",
    "    ]\n",
    "    n_iter = 10 if len(alphas) < 100 else int(len(alphas)**0.5)\n",
    "    \n",
    "    clf = RandomizedSearchCV(temp_model, parameters, n_iter=n_iter, random_state=RANDOM_STATE)\n",
    "    clf.fit(X_train, y_train)\n",
    "    best_alpha = clf.best_params_['ccp_alpha']\n",
    " \n",
    "    model = DecisionTreeClassifier(criterion='entropy', ccp_alpha=best_alpha, random_state=RANDOM_STATE)\n",
    "    model.fit(X_train, y_train)\n",
    "    return model"
   ]
  },
  {
   "cell_type": "markdown",
   "id": "415f8bcc",
   "metadata": {},
   "source": [
    "## Code and Results"
   ]
  },
  {
   "cell_type": "code",
   "execution_count": 11,
   "id": "5a9560a0",
   "metadata": {},
   "outputs": [
    {
     "name": "stderr",
     "output_type": "stream",
     "text": [
      "/Users/chase/opt/anaconda3/lib/python3.9/site-packages/sklearn/model_selection/_split.py:666: UserWarning: The least populated class in y has only 2 members, which is less than n_splits=5.\n",
      "  warnings.warn((\"The least populated class in y has only %d\"\n"
     ]
    },
    {
     "name": "stdout",
     "output_type": "stream",
     "text": [
      "Arr CCPruned (depth 8)\ttrain: 83.10%\ttest: 72.53%\n",
      "BCP CCPruned (depth 7)\ttrain: 99.45%\ttest: 97.08%\n",
      "Web CCPruned (depth 23)\ttrain: 98.88%\ttest: 96.56%\n"
     ]
    }
   ],
   "source": [
    "models['Arr CCPruned'] = CostPrunedTree(h_train_x, h_train_y)\n",
    "print_results('Arr CCPruned', models, h_train_x, h_test_x, h_train_y, h_test_y)\n",
    "\n",
    "models['BCP CCPruned'] = CostPrunedTree(bcp_X_train, bcp_y_train)\n",
    "print_results('BCP CCPruned', models, bcp_X_train, bcp_X_test, bcp_y_train, bcp_y_test)\n",
    "\n",
    "models['Web CCPruned'] = CostPrunedTree(web_X_train, web_y_train)\n",
    "print_results('Web CCPruned', models, web_X_train, web_X_test, web_y_train, web_y_test)"
   ]
  },
  {
   "cell_type": "code",
   "execution_count": 12,
   "id": "7a2e6c27",
   "metadata": {},
   "outputs": [
    {
     "name": "stdout",
     "output_type": "stream",
     "text": [
      "Arr Pruned vs Arr CCPruned \tp value: 0.863 \n",
      "BCP Pruned vs BCP CCPruned \tp value: 0.384 \n",
      "Web Pruned vs Web CCPruned \tp value: 0.573 \n"
     ]
    }
   ],
   "source": [
    "# Arrhythmia pre-pruning vs cost-complexity pruning\n",
    "m1, m2 = 'Arr Pruned', 'Arr CCPruned'\n",
    "t, p = paired_ttest_5x2cv(estimator1=models[m1], estimator2=models[m2],\n",
    "                          X=h_train_x, y=h_train_y, random_seed=RANDOM_STATE)\n",
    "\n",
    "flag = \"\\t<--Significant difference\" if p < 0.05 else \"\"\n",
    "print(m1, 'vs', m2, '\\tp value: %.3f' % p, flag)\n",
    "\n",
    "\n",
    "# BCP pre-pruning vs cost-complexity pruning\n",
    "m1, m2 = 'BCP Pruned', 'BCP CCPruned'\n",
    "t, p = paired_ttest_5x2cv(estimator1=models[m1], estimator2=models[m2],\n",
    "                          X=bcp_X_train, y=bcp_y_train, random_seed=RANDOM_STATE)\n",
    "\n",
    "flag = \"\\t<--Significant difference\" if p < 0.05 else \"\"\n",
    "print(m1, 'vs', m2, '\\tp value: %.3f' % p, flag)\n",
    "\n",
    "\n",
    "# website-phishing pre-pruning vs cost-complexity pruning\n",
    "m1, m2 = 'Web Pruned', 'Web CCPruned'\n",
    "t, p = paired_ttest_5x2cv(estimator1=models[m1], estimator2=models[m2],\n",
    "                          X=web_X_train, y=web_y_train, random_seed=RANDOM_STATE)\n",
    "\n",
    "flag = \"\\t<--Significant difference\" if p < 0.05 else \"\"\n",
    "print(m1, 'vs', m2, '\\tp value: %.3f' % p, flag)"
   ]
  },
  {
   "cell_type": "markdown",
   "id": "68a5daff",
   "metadata": {},
   "source": [
    "## Discussion\n",
    "\n",
    "The new pruning strategy executed was cost complexity pruning, with the complexity parameter (alpha) determined by random search cross-validation over at least ten possible values. Alpha acts like a misclassification threshold: nodes whose decisions cause misclassification at a rate higher than alpha are pruned, in order of severity of misclassification. This is done by calculating the cost complexity of each node, pruning the node with maximum cost complexity, and repeating the process until every node's cost complexity is greater than alpha. Random cross-validation is used to select alpha because exhaustive search would take too long, and a random sample of all possible alphas of the right size should find an alpha that is good enough.  \n",
    "  \n",
    "  Cost-complexity pruning did not yield significantly better results than simply restricting the depth of the decision tree. This is confirmed with paired t-test cv accuracy comparisons and their resulting high p-values. The insignificant improvement over pre-pruning likely comes from the datasets themselves: they are either too complex for a decision tree to be very accurate (`arrhythmia`), or they are so easily predictable by a decision tree that it does not matter much that the tree is pruned any certain way, or pruned at all (`BCP` and `website`)."
   ]
  }
 ],
 "metadata": {
  "kernelspec": {
   "display_name": "Python 3 (ipykernel)",
   "language": "python",
   "name": "python3"
  },
  "language_info": {
   "codemirror_mode": {
    "name": "ipython",
    "version": 3
   },
   "file_extension": ".py",
   "mimetype": "text/x-python",
   "name": "python",
   "nbconvert_exporter": "python",
   "pygments_lexer": "ipython3",
   "version": "3.9.12"
  }
 },
 "nbformat": 4,
 "nbformat_minor": 5
}
