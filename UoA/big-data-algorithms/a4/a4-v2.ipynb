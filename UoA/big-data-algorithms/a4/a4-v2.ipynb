{
 "cells": [
  {
   "cell_type": "code",
   "execution_count": 15,
   "id": "7f31dba4",
   "metadata": {},
   "outputs": [
    {
     "name": "stdout",
     "output_type": "stream",
     "text": [
      "(841020, 5) (8582, 5) (8582, 5)\n"
     ]
    },
    {
     "data": {
      "text/html": [
       "<div>\n",
       "<style scoped>\n",
       "    .dataframe tbody tr th:only-of-type {\n",
       "        vertical-align: middle;\n",
       "    }\n",
       "\n",
       "    .dataframe tbody tr th {\n",
       "        vertical-align: top;\n",
       "    }\n",
       "\n",
       "    .dataframe thead th {\n",
       "        text-align: right;\n",
       "    }\n",
       "</style>\n",
       "<table border=\"1\" class=\"dataframe\">\n",
       "  <thead>\n",
       "    <tr style=\"text-align: right;\">\n",
       "      <th></th>\n",
       "      <th>review_id</th>\n",
       "      <th>business_id</th>\n",
       "      <th>user_id</th>\n",
       "      <th>stars</th>\n",
       "      <th>date</th>\n",
       "    </tr>\n",
       "  </thead>\n",
       "  <tbody>\n",
       "    <tr>\n",
       "      <th>0</th>\n",
       "      <td>xW294l3Lwh0cxlHU1jwRDA</td>\n",
       "      <td>na4Th5DrNauOv-c43QQFvA</td>\n",
       "      <td>nkN_do3fJ9xekchVC-v68A</td>\n",
       "      <td>5.0</td>\n",
       "      <td>2004-10-19 02:46:40</td>\n",
       "    </tr>\n",
       "    <tr>\n",
       "      <th>1</th>\n",
       "      <td>VgBxQqaDgOHq9YRxtMUm3A</td>\n",
       "      <td>6xgcHeLad-VaoTIQewK84A</td>\n",
       "      <td>G5LXEaxhQMF_BVjNHkVr7g</td>\n",
       "      <td>5.0</td>\n",
       "      <td>2005-04-27 23:38:05</td>\n",
       "    </tr>\n",
       "    <tr>\n",
       "      <th>2</th>\n",
       "      <td>lgpSS6UsKYIvnQaw8JwHlQ</td>\n",
       "      <td>--9e1ONYQuAa-CB_Rrw7Tw</td>\n",
       "      <td>G5LXEaxhQMF_BVjNHkVr7g</td>\n",
       "      <td>5.0</td>\n",
       "      <td>2005-04-27 23:38:49</td>\n",
       "    </tr>\n",
       "    <tr>\n",
       "      <th>3</th>\n",
       "      <td>xKf_Y6PmebgJtFLULpYCzA</td>\n",
       "      <td>Wxxvi3LZbHNIDwJ-ZimtnA</td>\n",
       "      <td>G5LXEaxhQMF_BVjNHkVr7g</td>\n",
       "      <td>5.0</td>\n",
       "      <td>2005-04-27 23:44:33</td>\n",
       "    </tr>\n",
       "    <tr>\n",
       "      <th>4</th>\n",
       "      <td>9P9aP_laBPpHWbdY9ZZYyA</td>\n",
       "      <td>BjH8Xepc10i6OhCDQdX6og</td>\n",
       "      <td>nzsv-p1O8gCfP3XijfQrIw</td>\n",
       "      <td>4.0</td>\n",
       "      <td>2005-04-28 04:42:38</td>\n",
       "    </tr>\n",
       "  </tbody>\n",
       "</table>\n",
       "</div>"
      ],
      "text/plain": [
       "                review_id             business_id                 user_id  \\\n",
       "0  xW294l3Lwh0cxlHU1jwRDA  na4Th5DrNauOv-c43QQFvA  nkN_do3fJ9xekchVC-v68A   \n",
       "1  VgBxQqaDgOHq9YRxtMUm3A  6xgcHeLad-VaoTIQewK84A  G5LXEaxhQMF_BVjNHkVr7g   \n",
       "2  lgpSS6UsKYIvnQaw8JwHlQ  --9e1ONYQuAa-CB_Rrw7Tw  G5LXEaxhQMF_BVjNHkVr7g   \n",
       "3  xKf_Y6PmebgJtFLULpYCzA  Wxxvi3LZbHNIDwJ-ZimtnA  G5LXEaxhQMF_BVjNHkVr7g   \n",
       "4  9P9aP_laBPpHWbdY9ZZYyA  BjH8Xepc10i6OhCDQdX6og  nzsv-p1O8gCfP3XijfQrIw   \n",
       "\n",
       "   stars                 date  \n",
       "0    5.0  2004-10-19 02:46:40  \n",
       "1    5.0  2005-04-27 23:38:05  \n",
       "2    5.0  2005-04-27 23:38:49  \n",
       "3    5.0  2005-04-27 23:44:33  \n",
       "4    4.0  2005-04-28 04:42:38  "
      ]
     },
     "execution_count": 15,
     "metadata": {},
     "output_type": "execute_result"
    }
   ],
   "source": [
    "import json\n",
    "import pandas as pd\n",
    "\n",
    "# create pandas dataframe from specified file containing\n",
    "# a separate json object on each line for each observation\n",
    "def read_file(filename):\n",
    "    data = {}\n",
    "    file = open(filename, 'r')\n",
    "    for line in file.readlines():\n",
    "        datum = json.loads(line)\n",
    "        for k, v in datum.items():\n",
    "            if k not in data:\n",
    "                data[k] = []\n",
    "            data[k].append(v)\n",
    "    file.close()\n",
    "    return pd.DataFrame(data)\n",
    "    \n",
    "# import each datafile and report shape\n",
    "train = read_file('train.json')\n",
    "test = read_file('test.json')\n",
    "val = read_file('val.json')\n",
    "\n",
    "print(train.shape, test.shape, val.shape)\n",
    "train.head()"
   ]
  },
  {
   "cell_type": "code",
   "execution_count": 16,
   "id": "aa65dc8f",
   "metadata": {},
   "outputs": [],
   "source": [
    "import numpy as np\n",
    "\n",
    "# Collect all unique user and business ID's and map to unique index\n",
    "user_ids = np.union1d(np.union1d(val['user_id'], test['user_id']), \n",
    "                      train['user_id'])\n",
    "user_dict = dict(zip(user_ids, range(len(user_ids))))\n",
    "biz_ids = np.union1d(np.union1d(val['business_id'], test['business_id']), \n",
    "                     train['business_id'])\n",
    "biz_dict = dict(zip(biz_ids, range(len(biz_ids))))"
   ]
  },
  {
   "cell_type": "markdown",
   "id": "1185507a",
   "metadata": {},
   "source": [
    "# Tasks\n",
    "## Task 1\n",
    "Estimate global bias $b_g$, user specific bias $b_i$, and item specific bias $b_j$ on training data. Report global bias, and user/item specific bias estimates for one example user/business, respectively."
   ]
  },
  {
   "cell_type": "code",
   "execution_count": 17,
   "id": "3d306da3",
   "metadata": {},
   "outputs": [],
   "source": [
    "# estimate global, user, and item biases of reviews in dataframe\n",
    "def get_bias(df):\n",
    "    b_g = sum(df['stars']) / len(df['stars'])\n",
    "    b_i = b_g - df.groupby('user_id')['stars'].mean()\n",
    "    b_j = b_g - df.groupby('business_id')['stars'].mean()\n",
    "    return b_g, b_i.to_dict(), b_j.to_dict()\n",
    "\n",
    "b_g, b_i, b_j = get_bias(train)"
   ]
  },
  {
   "cell_type": "markdown",
   "id": "818253f0",
   "metadata": {},
   "source": [
    "## Task 2\n",
    "Train a Latent Factor Model without bias, with k=8 factors, for 10 epochs, with learning rate 0.01 and regularisation 0.3, reporting RMSE for each epoch."
   ]
  },
  {
   "cell_type": "code",
   "execution_count": 18,
   "id": "08ff53ff",
   "metadata": {},
   "outputs": [
    {
     "data": {
      "text/plain": [
       "array([[4., 0., 0., ..., 0., 0., 0.],\n",
       "       [0., 0., 0., ..., 0., 0., 0.],\n",
       "       [0., 0., 0., ..., 0., 0., 0.],\n",
       "       ...,\n",
       "       [0., 0., 0., ..., 0., 0., 0.],\n",
       "       [0., 0., 0., ..., 0., 0., 0.],\n",
       "       [0., 0., 0., ..., 0., 0., 0.]])"
      ]
     },
     "execution_count": 18,
     "metadata": {},
     "output_type": "execute_result"
    }
   ],
   "source": [
    "from tqdm.notebook import trange, tqdm\n",
    "from scipy import sparse\n",
    "\n",
    "b = [biz_dict[b] for b in train['business_id']]\n",
    "u = [user_dict[u] for u in train['user_id']]\n",
    "r = train['stars']\n",
    "R = sparse.coo_matrix((r, (u, b)), (len(user_ids), len(biz_ids))).toarray()\n",
    "R"
   ]
  },
  {
   "cell_type": "code",
   "execution_count": 54,
   "id": "c155fbe6",
   "metadata": {},
   "outputs": [],
   "source": [
    "def train_LFM(r=R, k=8, n_epochs=10, lr=0.01, lmda=0.3, verbose=0):\n",
    "    Q = np.random.standard_normal((len(user_ids), k))\n",
    "    P = np.random.standard_normal((len(biz_ids), k))\n",
    "    RMSE = np.zeros(n_epochs)\n",
    "\n",
    "    for e in trange(n_epochs):\n",
    "        relevant = r != 0\n",
    "        rhat = Q.dot(P.transpose()) * relevant\n",
    "        err = r - rhat\n",
    "        dLq = -2*err.dot(P) + 2*lmda*Q\n",
    "        dLp = -2*err.transpose().dot(Q) + 2*lmda*P\n",
    "        Q -= lr * dLq\n",
    "        P -= lr * dLp\n",
    "        RMSE[e] = np.sqrt(np.mean(sparse.find(err**2)[2]))\n",
    "        if verbose:\n",
    "            print(f'Epoch {e} RMSE: {RMSE[e]:.4f}')\n",
    "    return {'k': k, 'RMSE': RMSE, 'Q': Q, 'P': P}"
   ]
  },
  {
   "cell_type": "code",
   "execution_count": 56,
   "id": "2882f01f",
   "metadata": {},
   "outputs": [
    {
     "data": {
      "application/vnd.jupyter.widget-view+json": {
       "model_id": "5a1471af5a454c5c9689b35651017414",
       "version_major": 2,
       "version_minor": 0
      },
      "text/plain": [
       "  0%|          | 0/10 [00:00<?, ?it/s]"
      ]
     },
     "metadata": {},
     "output_type": "display_data"
    },
    {
     "name": "stdout",
     "output_type": "stream",
     "text": [
      "Epoch 0 RMSE: 4.9290\n",
      "Epoch 1 RMSE: 8.5451\n"
     ]
    },
    {
     "ename": "KeyboardInterrupt",
     "evalue": "",
     "output_type": "error",
     "traceback": [
      "\u001b[0;31m---------------------------------------------------------------------------\u001b[0m",
      "\u001b[0;31mKeyboardInterrupt\u001b[0m                         Traceback (most recent call last)",
      "Input \u001b[0;32mIn [56]\u001b[0m, in \u001b[0;36m<cell line: 1>\u001b[0;34m()\u001b[0m\n\u001b[0;32m----> 1\u001b[0m lfm8 \u001b[38;5;241m=\u001b[39m \u001b[43mtrain_LFM\u001b[49m\u001b[43m(\u001b[49m\u001b[43mk\u001b[49m\u001b[38;5;241;43m=\u001b[39;49m\u001b[38;5;241;43m8\u001b[39;49m\u001b[43m,\u001b[49m\u001b[43m \u001b[49m\u001b[43mverbose\u001b[49m\u001b[38;5;241;43m=\u001b[39;49m\u001b[38;5;241;43m1\u001b[39;49m\u001b[43m)\u001b[49m\n",
      "Input \u001b[0;32mIn [54]\u001b[0m, in \u001b[0;36mtrain_LFM\u001b[0;34m(r, k, n_epochs, lr, lmda, verbose)\u001b[0m\n\u001b[1;32m      6\u001b[0m \u001b[38;5;28;01mfor\u001b[39;00m e \u001b[38;5;129;01min\u001b[39;00m trange(n_epochs):\n\u001b[1;32m      7\u001b[0m     relevant \u001b[38;5;241m=\u001b[39m r \u001b[38;5;241m!=\u001b[39m \u001b[38;5;241m0\u001b[39m\n\u001b[0;32m----> 8\u001b[0m     rhat \u001b[38;5;241m=\u001b[39m \u001b[43mQ\u001b[49m\u001b[38;5;241;43m.\u001b[39;49m\u001b[43mdot\u001b[49m\u001b[43m(\u001b[49m\u001b[43mP\u001b[49m\u001b[38;5;241;43m.\u001b[39;49m\u001b[43mtranspose\u001b[49m\u001b[43m(\u001b[49m\u001b[43m)\u001b[49m\u001b[43m)\u001b[49m \u001b[38;5;241m*\u001b[39m relevant\n\u001b[1;32m      9\u001b[0m     err \u001b[38;5;241m=\u001b[39m r \u001b[38;5;241m-\u001b[39m rhat\n\u001b[1;32m     10\u001b[0m     dLq \u001b[38;5;241m=\u001b[39m \u001b[38;5;241m-\u001b[39m\u001b[38;5;241m2\u001b[39m\u001b[38;5;241m*\u001b[39merr\u001b[38;5;241m.\u001b[39mdot(P) \u001b[38;5;241m+\u001b[39m \u001b[38;5;241m2\u001b[39m\u001b[38;5;241m*\u001b[39mlmda\u001b[38;5;241m*\u001b[39mQ\n",
      "\u001b[0;31mKeyboardInterrupt\u001b[0m: "
     ]
    }
   ],
   "source": [
    "lfm8 = train_LFM(k=8, verbose=1)"
   ]
  },
  {
   "cell_type": "markdown",
   "id": "df70d29f",
   "metadata": {},
   "source": [
    "## Task 3\n",
    "Report RMSE on validation set of LFM trained with each k in {4,8,16}. Choose the model with best RMSE and report RMSE on test set."
   ]
  },
  {
   "cell_type": "code",
   "execution_count": null,
   "id": "82576b18",
   "metadata": {},
   "outputs": [],
   "source": [
    "lfm4 = train_LFM(k=4)\n",
    "lfm16 = train_LFM(k=16)"
   ]
  },
  {
   "cell_type": "code",
   "execution_count": null,
   "id": "ece1687d",
   "metadata": {},
   "outputs": [],
   "source": [
    "def get_predictions(lfm, dataset):\n",
    "    Q = lfm['Q']\n",
    "    P = lfm['P']\n",
    "    data = dataset.to_numpy()\n",
    "    return [Q[user_dict[x[2]]].dot(P[biz_dict[x[1]]]) for x in data]\n",
    "\n",
    "def get_rmse(lfm, dataset):\n",
    "    pred = get_predictions(lfm, dataset)\n",
    "    return np.sqrt(np.mean((dataset['stars'] - pred)**2))"
   ]
  },
  {
   "cell_type": "code",
   "execution_count": null,
   "id": "6fc3af7a",
   "metadata": {},
   "outputs": [],
   "source": [
    "for lfm in [lfm4, lfm8, lfm16]:\n",
    "    print(f'LFM k={lfm[\"k\"]} validation RMSE: {get_rmse(lfm, val)}')"
   ]
  },
  {
   "cell_type": "code",
   "execution_count": null,
   "id": "1918bcdd",
   "metadata": {},
   "outputs": [],
   "source": [
    "print(f'LFM k=16 test RMSE: {get_rmse(lfm16, test)}')"
   ]
  },
  {
   "cell_type": "markdown",
   "id": "cbb291a6",
   "metadata": {},
   "source": [
    "## Task 4\n",
    "Add bias terms to LFM, initialising with the estimated bias from Task 1. Train a model like that in Task 2, reporting RMSE of each epoch and specific bias of a single user and business."
   ]
  },
  {
   "cell_type": "code",
   "execution_count": null,
   "id": "7dfc1ac6",
   "metadata": {},
   "outputs": [],
   "source": [
    "def LFM_bias(b_g, b_i, b_j, data=train_obs, k=8, n_epochs=10, lr=0.01, lmda=0.3, verbose=0):\n",
    "    Q = {u: np.random.rand(k) for u in user_ids}\n",
    "    P = {b: np.random.rand(k) for b in biz_ids}\n",
    "    RMSE = np.zeros(n_epochs)\n",
    "\n",
    "    for e in range(n_epochs):\n",
    "        SE = np.zeros(len(data))\n",
    "        rng = trange(len(data), leave=False, desc=f'Ep. {e}') if verbose else range(len(data))\n",
    "        for i in rng:\n",
    "            b, u, r = data[i][1:4]\n",
    "            rhat = b_g + b_i[u] + b_j[b] + Q[u].dot(P[b])\n",
    "            err = r - rhat\n",
    "            SE[i] = err**2\n",
    "            # vectorised update of each factor by gradient of error\n",
    "            Q[u] -= lr * (-2*err*P[b] + 2*lmda*Q[u])\n",
    "            P[b] -= lr * (-2*err*Q[u] + 2*lmda*P[b])\n",
    "            b_i[u] -= lr * (-2*err + 2*lmda*b_i[u])\n",
    "            b_j[b] -= lr * (-2*err + 2*lmda*b_j[b])\n",
    "        RMSE[e] = np.sqrt(np.mean(SE))\n",
    "        if verbose:\n",
    "            print(f'Epoch {e} RMSE: {RMSE[e]:.4f}')\n",
    "    return {'k': k, 'RMSE': RMSE, 'Q': Q, 'P': P, 'b_i': b_i, 'b_j': b_j}"
   ]
  },
  {
   "cell_type": "code",
   "execution_count": null,
   "id": "f71b5a60",
   "metadata": {},
   "outputs": [],
   "source": [
    "lfm8_b = LFM_bias(b_g, b_i.copy(), b_j.copy(), k=8, verbose=1)"
   ]
  },
  {
   "cell_type": "code",
   "execution_count": null,
   "id": "0d1fdaea",
   "metadata": {},
   "outputs": [],
   "source": [
    "usr = 'b4aIMeXOx4cn3bjtdIOo6Q'\n",
    "biz = '7VQYoXk3Tc8EZeKuXeixeg'\n",
    "\n",
    "print(f'Bias of user \"{usr}\": {lfm8_b['b_i'][usr]:.2f}')\n",
    "print(f'Bias of business \"{biz}\": {lfm8_b['b_j'][biz]:.2f}')"
   ]
  },
  {
   "cell_type": "code",
   "execution_count": null,
   "id": "538240ea",
   "metadata": {},
   "outputs": [],
   "source": [
    "lfm4_b = LFM_bias(b_g, b_i.copy(), b_j.copy(), k=4)\n",
    "lfm16_b = LFM_bias(b_g, b_i.copy(), b_j.copy(), k=16)"
   ]
  },
  {
   "cell_type": "code",
   "execution_count": null,
   "id": "130f4c98",
   "metadata": {},
   "outputs": [],
   "source": [
    "for lfm in [lfm4_b, lfm8_b, lfm16_b]:\n",
    "    print(f'LFM with bias k={lfm[\"k\"]} validation RMSE: {get_rmse(lfm, val)}')"
   ]
  },
  {
   "cell_type": "code",
   "execution_count": null,
   "id": "65a16579",
   "metadata": {},
   "outputs": [],
   "source": [
    "print(f'LFM with bias k=16 test RMSE: {get_rmse(lfm16_b, test)}')"
   ]
  }
 ],
 "metadata": {
  "kernelspec": {
   "display_name": "Python 3 (ipykernel)",
   "language": "python",
   "name": "python3"
  },
  "language_info": {
   "codemirror_mode": {
    "name": "ipython",
    "version": 3
   },
   "file_extension": ".py",
   "mimetype": "text/x-python",
   "name": "python",
   "nbconvert_exporter": "python",
   "pygments_lexer": "ipython3",
   "version": "3.9.12"
  }
 },
 "nbformat": 4,
 "nbformat_minor": 5
}
